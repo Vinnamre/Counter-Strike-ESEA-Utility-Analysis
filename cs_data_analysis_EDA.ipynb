{
 "cells": [
  {
   "cell_type": "markdown",
   "metadata": {
    "papermill": {
     "duration": 0.014636,
     "end_time": "2020-08-31T00:13:15.322591",
     "exception": false,
     "start_time": "2020-08-31T00:13:15.307955",
     "status": "completed"
    },
    "tags": []
   },
   "source": [
    "#  Counter Strike esea Tournament (south pacific) map, rounds and utility based Analysis\n",
    "\n",
    "Counter Strike: Global Offensive is a team-based strategic shooter where one team, the terrorists, tries to plant a bomb and defend it until it detonates while the other team, the counter terrorists, attempt to stop the bomb plant or defuse it once it's planted. Now their are different maps each map has its own pros and cons to be played, some maps are more t-side dominant and others are ct-side dominant.\n",
    "\n",
    "In this analysis I tried to analyze how selecting a map or picking a side (t or ct) impact in the result of the game. As Counter strike has been around from more 20 yrs in the e-sports, I took the data from the *ESEA* tournament. After playing this game for more than 10 yrs, being a part of some tournaments held by Nodwin in delhi one thing that has always drawn me to this game is the importance of *utility* — smoke grenades, flashbangs, and hand grenades. A well-thrown smoke can give your team cover to advance into a new position or block eyesight from an enemy and can have a pivotal role on the round.\n",
    "\n",
    "This dataset contains all types of utility thrown during thousands of competitive games (containing millions of grenades) as well as other datapoints such as if/when the bomb was planted, and who won. Naturally, I had questions about how utility actually impacts gameplay."
   ]
  },
  {
   "cell_type": "markdown",
   "metadata": {},
   "source": [
    "# *Dataset Overview*\n",
    "\n",
    "* **esea_master_grenades_demos.part1.csv, esea_master_grenades_demos.part2.csv**\n",
    "  * 2990060 rows, 2256398 rows\n",
    "  * 'file', 'round', 'seconds', 'att_team', 'vic_team', 'att_id', 'vic_id',\n",
    "       'att_side', 'vic_side', 'hp_dmg', 'arm_dmg', 'hitbox', 'nade', 'att_rank', 'vic_rank', 'att_pos_x',\n",
    "       'att_pos_y', 'nade_land_x', 'nade_land_y', 'vic_pos_x', 'vic_pos_y'\n",
    "  * 'att_team', 'vic_team': the team throwing and getting hit by the grenade, respectively\n",
    "  * 'is_bomb_planted', 'bomb_site': Whether the bomb has been planted, and if so, at which site\n",
    "       \n",
    "* **esea_meta_demos.part1.csv, esea_meta_demos.part2.csv**\n",
    "  * 215919 rows, 161710 rows\n",
    "  * ['file', 'map', 'round', 'start_seconds', 'end_seconds', 'winner_team',\n",
    "       'winner_side', 'round_type', 'ct_eq_val', 't_eq_val']\n",
    "* **esea_master_kills_demos.part1.csv, esea_master_kills_demos.part2.csv**\n",
    "  * 1569477 rows, 1173169 rows\n",
    "  * ['file', 'round', 'tick', 'seconds', 'att_team', 'vic_team', 'att_side',\n",
    "       'vic_side', 'wp', 'wp_type', 'ct_alive', 't_alive', 'is_bomb_planted']\n",
    "* **esea_master_dmg_demos.part1.csv, esea_master_dmg_demos.part2.csv**\n",
    "  * 5992097 rows, 4546085 rows\n",
    "  * ['file', 'map', 'round', 'start_seconds', 'end_seconds', 'winner_team',\n",
    "       'winner_side', 'round_type']\n",
    "  * 'ct_eq_val', 't_eq_val': Team equipment value\n",
    "* **mm_grenades_demos.csv**\n",
    "  * 366098 rows\n",
    "  * ['Unnamed: 0', 'file', 'map', 'round', 'start_seconds', 'seconds',\n",
    "       'end_seconds', 'att_team', 'vic_team', 'att_id', 'vic_id', 'att_side',\n",
    "       'vic_side', 'hp_dmg', 'arm_dmg', 'is_bomb_planted', 'bomb_site',\n",
    "       'hitbox', 'nade', 'winner_team', 'winner_side', 'att_rank', 'vic_rank',\n",
    "       'att_pos_x', 'att_pos_y', 'nade_land_x', 'nade_land_y', 'vic_pos_x',\n",
    "       'vic_pos_y', 'round_type', 'ct_eq_val', 't_eq_val', 'avg_match_rank']\n",
    "* **mm_master_demos.csv**\n",
    "  * 955466 rows\n",
    "  * ['Unnamed: 0', 'file', 'map', 'date', 'round', 'tick', 'seconds',\n",
    "       'att_team', 'vic_team', 'att_side', 'vic_side', 'hp_dmg', 'arm_dmg',\n",
    "       'is_bomb_planted', 'bomb_site', 'hitbox', 'wp', 'wp_type', 'award',\n",
    "       'winner_team', 'winner_side', 'att_id', 'att_rank', 'vic_id',\n",
    "       'vic_rank', 'att_pos_x', 'att_pos_y', 'vic_pos_x', 'vic_pos_y',\n",
    "       'round_type', 'ct_eq_val', 't_eq_val', 'avg_match_rank']\n",
    "* **map_data.csv**\n",
    "  * ['Unnamed: 0', 'EndX', 'EndY', 'ResX', 'ResY', 'StartX', 'StartY']"
   ]
  },
  {
   "cell_type": "code",
   "execution_count": 36,
   "metadata": {
    "execution": {
     "iopub.execute_input": "2020-08-31T00:13:15.358228Z",
     "iopub.status.busy": "2020-08-31T00:13:15.357313Z",
     "iopub.status.idle": "2020-08-31T00:13:16.639488Z",
     "shell.execute_reply": "2020-08-31T00:13:16.638699Z"
    },
    "papermill": {
     "duration": 1.30104,
     "end_time": "2020-08-31T00:13:16.639629",
     "exception": false,
     "start_time": "2020-08-31T00:13:15.338589",
     "status": "completed"
    },
    "tags": []
   },
   "outputs": [],
   "source": [
    "import pandas as pd\n",
    "import numpy as np\n",
    "import matplotlib.pyplot as plt\n",
    "import seaborn as sns"
   ]
  },
  {
   "cell_type": "code",
   "execution_count": 12,
   "metadata": {
    "execution": {
     "iopub.execute_input": "2020-08-31T00:13:16.677867Z",
     "iopub.status.busy": "2020-08-31T00:13:16.676729Z",
     "iopub.status.idle": "2020-08-31T00:13:17.564206Z",
     "shell.execute_reply": "2020-08-31T00:13:17.563433Z"
    },
    "papermill": {
     "duration": 0.911743,
     "end_time": "2020-08-31T00:13:17.564369",
     "exception": false,
     "start_time": "2020-08-31T00:13:16.652626",
     "status": "completed"
    },
    "tags": []
   },
   "outputs": [],
   "source": [
    "metaData1 = pd.read_csv(r\"C:\\Users\\yoges\\Downloads\\archive (4)\\esea_meta_demos.part1.csv\")\n",
    "metaData2 = pd.read_csv(r\"C:\\Users\\yoges\\Downloads\\archive (4)\\esea_meta_demos.part2.csv\")\n",
    "metaData = pd.concat([metaData1, metaData2]) # combine the data which was seperate"
   ]
  },
  {
   "cell_type": "code",
   "execution_count": 13,
   "metadata": {
    "execution": {
     "iopub.execute_input": "2020-08-31T00:13:17.608313Z",
     "iopub.status.busy": "2020-08-31T00:13:17.607490Z",
     "iopub.status.idle": "2020-08-31T00:13:17.621483Z",
     "shell.execute_reply": "2020-08-31T00:13:17.622137Z"
    },
    "papermill": {
     "duration": 0.044429,
     "end_time": "2020-08-31T00:13:17.622314",
     "exception": false,
     "start_time": "2020-08-31T00:13:17.577885",
     "status": "completed"
    },
    "scrolled": true,
    "tags": []
   },
   "outputs": [
    {
     "data": {
      "text/html": [
       "<div>\n",
       "<style scoped>\n",
       "    .dataframe tbody tr th:only-of-type {\n",
       "        vertical-align: middle;\n",
       "    }\n",
       "\n",
       "    .dataframe tbody tr th {\n",
       "        vertical-align: top;\n",
       "    }\n",
       "\n",
       "    .dataframe thead th {\n",
       "        text-align: right;\n",
       "    }\n",
       "</style>\n",
       "<table border=\"1\" class=\"dataframe\">\n",
       "  <thead>\n",
       "    <tr style=\"text-align: right;\">\n",
       "      <th></th>\n",
       "      <th>file</th>\n",
       "      <th>map</th>\n",
       "      <th>round</th>\n",
       "      <th>start_seconds</th>\n",
       "      <th>end_seconds</th>\n",
       "      <th>winner_team</th>\n",
       "      <th>winner_side</th>\n",
       "      <th>round_type</th>\n",
       "      <th>ct_eq_val</th>\n",
       "      <th>t_eq_val</th>\n",
       "    </tr>\n",
       "  </thead>\n",
       "  <tbody>\n",
       "    <tr>\n",
       "      <th>0</th>\n",
       "      <td>esea_match_13770997.dem</td>\n",
       "      <td>de_overpass</td>\n",
       "      <td>1</td>\n",
       "      <td>94.30782</td>\n",
       "      <td>160.9591</td>\n",
       "      <td>Hentai Hooligans</td>\n",
       "      <td>Terrorist</td>\n",
       "      <td>PISTOL_ROUND</td>\n",
       "      <td>4300</td>\n",
       "      <td>4250</td>\n",
       "    </tr>\n",
       "    <tr>\n",
       "      <th>1</th>\n",
       "      <td>esea_match_13770997.dem</td>\n",
       "      <td>de_overpass</td>\n",
       "      <td>2</td>\n",
       "      <td>160.95910</td>\n",
       "      <td>279.3998</td>\n",
       "      <td>Hentai Hooligans</td>\n",
       "      <td>Terrorist</td>\n",
       "      <td>ECO</td>\n",
       "      <td>6300</td>\n",
       "      <td>19400</td>\n",
       "    </tr>\n",
       "    <tr>\n",
       "      <th>2</th>\n",
       "      <td>esea_match_13770997.dem</td>\n",
       "      <td>de_overpass</td>\n",
       "      <td>3</td>\n",
       "      <td>279.39980</td>\n",
       "      <td>341.0084</td>\n",
       "      <td>Hentai Hooligans</td>\n",
       "      <td>Terrorist</td>\n",
       "      <td>SEMI_ECO</td>\n",
       "      <td>7650</td>\n",
       "      <td>19250</td>\n",
       "    </tr>\n",
       "    <tr>\n",
       "      <th>3</th>\n",
       "      <td>esea_match_13770997.dem</td>\n",
       "      <td>de_overpass</td>\n",
       "      <td>4</td>\n",
       "      <td>341.00840</td>\n",
       "      <td>435.4259</td>\n",
       "      <td>Hentai Hooligans</td>\n",
       "      <td>Terrorist</td>\n",
       "      <td>NORMAL</td>\n",
       "      <td>24900</td>\n",
       "      <td>23400</td>\n",
       "    </tr>\n",
       "    <tr>\n",
       "      <th>4</th>\n",
       "      <td>esea_match_13770997.dem</td>\n",
       "      <td>de_overpass</td>\n",
       "      <td>5</td>\n",
       "      <td>435.42590</td>\n",
       "      <td>484.2398</td>\n",
       "      <td>Animal Style</td>\n",
       "      <td>CounterTerrorist</td>\n",
       "      <td>ECO</td>\n",
       "      <td>5400</td>\n",
       "      <td>20550</td>\n",
       "    </tr>\n",
       "  </tbody>\n",
       "</table>\n",
       "</div>"
      ],
      "text/plain": [
       "                      file          map  round  start_seconds  end_seconds  \\\n",
       "0  esea_match_13770997.dem  de_overpass      1       94.30782     160.9591   \n",
       "1  esea_match_13770997.dem  de_overpass      2      160.95910     279.3998   \n",
       "2  esea_match_13770997.dem  de_overpass      3      279.39980     341.0084   \n",
       "3  esea_match_13770997.dem  de_overpass      4      341.00840     435.4259   \n",
       "4  esea_match_13770997.dem  de_overpass      5      435.42590     484.2398   \n",
       "\n",
       "        winner_team       winner_side    round_type  ct_eq_val  t_eq_val  \n",
       "0  Hentai Hooligans         Terrorist  PISTOL_ROUND       4300      4250  \n",
       "1  Hentai Hooligans         Terrorist           ECO       6300     19400  \n",
       "2  Hentai Hooligans         Terrorist      SEMI_ECO       7650     19250  \n",
       "3  Hentai Hooligans         Terrorist        NORMAL      24900     23400  \n",
       "4      Animal Style  CounterTerrorist           ECO       5400     20550  "
      ]
     },
     "execution_count": 13,
     "metadata": {},
     "output_type": "execute_result"
    }
   ],
   "source": [
    "metaData.head() # so you can see what the data looks like\n",
    "# ignore the winner_team as the majority of the rounds it is simply Team 1 or Team 2"
   ]
  },
  {
   "cell_type": "code",
   "execution_count": 14,
   "metadata": {
    "execution": {
     "iopub.execute_input": "2020-08-31T00:13:17.657243Z",
     "iopub.status.busy": "2020-08-31T00:13:17.655948Z",
     "iopub.status.idle": "2020-08-31T00:13:17.661496Z",
     "shell.execute_reply": "2020-08-31T00:13:17.660705Z"
    },
    "papermill": {
     "duration": 0.025807,
     "end_time": "2020-08-31T00:13:17.661630",
     "exception": false,
     "start_time": "2020-08-31T00:13:17.635823",
     "status": "completed"
    },
    "tags": []
   },
   "outputs": [
    {
     "data": {
      "text/plain": [
       "(377629, 10)"
      ]
     },
     "execution_count": 14,
     "metadata": {},
     "output_type": "execute_result"
    }
   ],
   "source": [
    "metaData.shape"
   ]
  },
  {
   "cell_type": "code",
   "execution_count": 15,
   "metadata": {},
   "outputs": [
    {
     "data": {
      "text/plain": [
       "Index(['file', 'map', 'round', 'start_seconds', 'end_seconds', 'winner_team',\n",
       "       'winner_side', 'round_type', 'ct_eq_val', 't_eq_val'],\n",
       "      dtype='object')"
      ]
     },
     "execution_count": 15,
     "metadata": {},
     "output_type": "execute_result"
    }
   ],
   "source": [
    "metaData.columns"
   ]
  },
  {
   "cell_type": "code",
   "execution_count": 16,
   "metadata": {},
   "outputs": [
    {
     "data": {
      "text/plain": [
       "Index(['file', 'map', 'round', 'start_seconds', 'end_seconds', 'winner_team',\n",
       "       'winner_side', 'round_type', 'ct_eq_val', 't_eq_val'],\n",
       "      dtype='object')"
      ]
     },
     "execution_count": 16,
     "metadata": {},
     "output_type": "execute_result"
    }
   ],
   "source": [
    "metaData1.columns"
   ]
  },
  {
   "cell_type": "code",
   "execution_count": 17,
   "metadata": {},
   "outputs": [
    {
     "data": {
      "text/html": [
       "<div>\n",
       "<style scoped>\n",
       "    .dataframe tbody tr th:only-of-type {\n",
       "        vertical-align: middle;\n",
       "    }\n",
       "\n",
       "    .dataframe tbody tr th {\n",
       "        vertical-align: top;\n",
       "    }\n",
       "\n",
       "    .dataframe thead th {\n",
       "        text-align: right;\n",
       "    }\n",
       "</style>\n",
       "<table border=\"1\" class=\"dataframe\">\n",
       "  <thead>\n",
       "    <tr style=\"text-align: right;\">\n",
       "      <th></th>\n",
       "      <th>file</th>\n",
       "      <th>map</th>\n",
       "      <th>round</th>\n",
       "      <th>start_seconds</th>\n",
       "      <th>end_seconds</th>\n",
       "      <th>winner_team</th>\n",
       "      <th>winner_side</th>\n",
       "      <th>round_type</th>\n",
       "      <th>ct_eq_val</th>\n",
       "      <th>t_eq_val</th>\n",
       "    </tr>\n",
       "  </thead>\n",
       "  <tbody>\n",
       "    <tr>\n",
       "      <th>0</th>\n",
       "      <td>esea_match_13818366.dem</td>\n",
       "      <td>de_cache</td>\n",
       "      <td>1</td>\n",
       "      <td>131.2287</td>\n",
       "      <td>203.7964</td>\n",
       "      <td>Team 1</td>\n",
       "      <td>CounterTerrorist</td>\n",
       "      <td>PISTOL_ROUND</td>\n",
       "      <td>2950</td>\n",
       "      <td>4300</td>\n",
       "    </tr>\n",
       "    <tr>\n",
       "      <th>1</th>\n",
       "      <td>esea_match_13818366.dem</td>\n",
       "      <td>de_cache</td>\n",
       "      <td>2</td>\n",
       "      <td>203.7964</td>\n",
       "      <td>268.6834</td>\n",
       "      <td>Team 1</td>\n",
       "      <td>CounterTerrorist</td>\n",
       "      <td>ECO</td>\n",
       "      <td>18400</td>\n",
       "      <td>4600</td>\n",
       "    </tr>\n",
       "    <tr>\n",
       "      <th>2</th>\n",
       "      <td>esea_match_13818366.dem</td>\n",
       "      <td>de_cache</td>\n",
       "      <td>3</td>\n",
       "      <td>268.6834</td>\n",
       "      <td>364.6373</td>\n",
       "      <td>Team 1</td>\n",
       "      <td>CounterTerrorist</td>\n",
       "      <td>ECO</td>\n",
       "      <td>25000</td>\n",
       "      <td>1500</td>\n",
       "    </tr>\n",
       "    <tr>\n",
       "      <th>3</th>\n",
       "      <td>esea_match_13818366.dem</td>\n",
       "      <td>de_cache</td>\n",
       "      <td>4</td>\n",
       "      <td>364.6373</td>\n",
       "      <td>460.1375</td>\n",
       "      <td>Team 1</td>\n",
       "      <td>CounterTerrorist</td>\n",
       "      <td>NORMAL</td>\n",
       "      <td>27550</td>\n",
       "      <td>23100</td>\n",
       "    </tr>\n",
       "    <tr>\n",
       "      <th>4</th>\n",
       "      <td>esea_match_13818366.dem</td>\n",
       "      <td>de_cache</td>\n",
       "      <td>5</td>\n",
       "      <td>460.1375</td>\n",
       "      <td>558.8445</td>\n",
       "      <td>Team 2</td>\n",
       "      <td>Terrorist</td>\n",
       "      <td>ECO</td>\n",
       "      <td>29450</td>\n",
       "      <td>11050</td>\n",
       "    </tr>\n",
       "    <tr>\n",
       "      <th>...</th>\n",
       "      <td>...</td>\n",
       "      <td>...</td>\n",
       "      <td>...</td>\n",
       "      <td>...</td>\n",
       "      <td>...</td>\n",
       "      <td>...</td>\n",
       "      <td>...</td>\n",
       "      <td>...</td>\n",
       "      <td>...</td>\n",
       "      <td>...</td>\n",
       "    </tr>\n",
       "    <tr>\n",
       "      <th>161705</th>\n",
       "      <td>esea_match_13829173.dem</td>\n",
       "      <td>de_mirage</td>\n",
       "      <td>18</td>\n",
       "      <td>1647.2060</td>\n",
       "      <td>1694.6550</td>\n",
       "      <td>Team 1</td>\n",
       "      <td>Terrorist</td>\n",
       "      <td>ECO</td>\n",
       "      <td>4500</td>\n",
       "      <td>21950</td>\n",
       "    </tr>\n",
       "    <tr>\n",
       "      <th>161706</th>\n",
       "      <td>esea_match_13829173.dem</td>\n",
       "      <td>de_mirage</td>\n",
       "      <td>19</td>\n",
       "      <td>1694.6550</td>\n",
       "      <td>1753.4380</td>\n",
       "      <td>Team 1</td>\n",
       "      <td>Terrorist</td>\n",
       "      <td>NORMAL</td>\n",
       "      <td>16400</td>\n",
       "      <td>26100</td>\n",
       "    </tr>\n",
       "    <tr>\n",
       "      <th>161707</th>\n",
       "      <td>esea_match_13829173.dem</td>\n",
       "      <td>de_mirage</td>\n",
       "      <td>20</td>\n",
       "      <td>1753.4380</td>\n",
       "      <td>1803.6580</td>\n",
       "      <td>Team 1</td>\n",
       "      <td>Terrorist</td>\n",
       "      <td>FORCE_BUY</td>\n",
       "      <td>15100</td>\n",
       "      <td>26000</td>\n",
       "    </tr>\n",
       "    <tr>\n",
       "      <th>161708</th>\n",
       "      <td>esea_match_13829173.dem</td>\n",
       "      <td>de_mirage</td>\n",
       "      <td>21</td>\n",
       "      <td>1803.6580</td>\n",
       "      <td>1856.0850</td>\n",
       "      <td>Team 1</td>\n",
       "      <td>Terrorist</td>\n",
       "      <td>NORMAL</td>\n",
       "      <td>17550</td>\n",
       "      <td>25500</td>\n",
       "    </tr>\n",
       "    <tr>\n",
       "      <th>161709</th>\n",
       "      <td>esea_match_13829173.dem</td>\n",
       "      <td>de_mirage</td>\n",
       "      <td>22</td>\n",
       "      <td>1856.0850</td>\n",
       "      <td>1905.8660</td>\n",
       "      <td>Team 1</td>\n",
       "      <td>Terrorist</td>\n",
       "      <td>NORMAL</td>\n",
       "      <td>21150</td>\n",
       "      <td>26550</td>\n",
       "    </tr>\n",
       "  </tbody>\n",
       "</table>\n",
       "<p>161710 rows × 10 columns</p>\n",
       "</div>"
      ],
      "text/plain": [
       "                           file        map  round  start_seconds  end_seconds  \\\n",
       "0       esea_match_13818366.dem   de_cache      1       131.2287     203.7964   \n",
       "1       esea_match_13818366.dem   de_cache      2       203.7964     268.6834   \n",
       "2       esea_match_13818366.dem   de_cache      3       268.6834     364.6373   \n",
       "3       esea_match_13818366.dem   de_cache      4       364.6373     460.1375   \n",
       "4       esea_match_13818366.dem   de_cache      5       460.1375     558.8445   \n",
       "...                         ...        ...    ...            ...          ...   \n",
       "161705  esea_match_13829173.dem  de_mirage     18      1647.2060    1694.6550   \n",
       "161706  esea_match_13829173.dem  de_mirage     19      1694.6550    1753.4380   \n",
       "161707  esea_match_13829173.dem  de_mirage     20      1753.4380    1803.6580   \n",
       "161708  esea_match_13829173.dem  de_mirage     21      1803.6580    1856.0850   \n",
       "161709  esea_match_13829173.dem  de_mirage     22      1856.0850    1905.8660   \n",
       "\n",
       "       winner_team       winner_side    round_type  ct_eq_val  t_eq_val  \n",
       "0           Team 1  CounterTerrorist  PISTOL_ROUND       2950      4300  \n",
       "1           Team 1  CounterTerrorist           ECO      18400      4600  \n",
       "2           Team 1  CounterTerrorist           ECO      25000      1500  \n",
       "3           Team 1  CounterTerrorist        NORMAL      27550     23100  \n",
       "4           Team 2         Terrorist           ECO      29450     11050  \n",
       "...            ...               ...           ...        ...       ...  \n",
       "161705      Team 1         Terrorist           ECO       4500     21950  \n",
       "161706      Team 1         Terrorist        NORMAL      16400     26100  \n",
       "161707      Team 1         Terrorist     FORCE_BUY      15100     26000  \n",
       "161708      Team 1         Terrorist        NORMAL      17550     25500  \n",
       "161709      Team 1         Terrorist        NORMAL      21150     26550  \n",
       "\n",
       "[161710 rows x 10 columns]"
      ]
     },
     "execution_count": 17,
     "metadata": {},
     "output_type": "execute_result"
    }
   ],
   "source": [
    "metaData2"
   ]
  },
  {
   "cell_type": "code",
   "execution_count": 18,
   "metadata": {},
   "outputs": [
    {
     "data": {
      "text/html": [
       "<div>\n",
       "<style scoped>\n",
       "    .dataframe tbody tr th:only-of-type {\n",
       "        vertical-align: middle;\n",
       "    }\n",
       "\n",
       "    .dataframe tbody tr th {\n",
       "        vertical-align: top;\n",
       "    }\n",
       "\n",
       "    .dataframe thead th {\n",
       "        text-align: right;\n",
       "    }\n",
       "</style>\n",
       "<table border=\"1\" class=\"dataframe\">\n",
       "  <thead>\n",
       "    <tr style=\"text-align: right;\">\n",
       "      <th></th>\n",
       "      <th>file</th>\n",
       "      <th>map</th>\n",
       "      <th>round</th>\n",
       "      <th>start_seconds</th>\n",
       "      <th>end_seconds</th>\n",
       "      <th>winner_team</th>\n",
       "      <th>winner_side</th>\n",
       "      <th>round_type</th>\n",
       "      <th>ct_eq_val</th>\n",
       "      <th>t_eq_val</th>\n",
       "    </tr>\n",
       "  </thead>\n",
       "  <tbody>\n",
       "    <tr>\n",
       "      <th>0</th>\n",
       "      <td>esea_match_13770997.dem</td>\n",
       "      <td>de_overpass</td>\n",
       "      <td>1</td>\n",
       "      <td>94.30782</td>\n",
       "      <td>160.9591</td>\n",
       "      <td>Hentai Hooligans</td>\n",
       "      <td>Terrorist</td>\n",
       "      <td>PISTOL_ROUND</td>\n",
       "      <td>4300</td>\n",
       "      <td>4250</td>\n",
       "    </tr>\n",
       "    <tr>\n",
       "      <th>1</th>\n",
       "      <td>esea_match_13770997.dem</td>\n",
       "      <td>de_overpass</td>\n",
       "      <td>2</td>\n",
       "      <td>160.95910</td>\n",
       "      <td>279.3998</td>\n",
       "      <td>Hentai Hooligans</td>\n",
       "      <td>Terrorist</td>\n",
       "      <td>ECO</td>\n",
       "      <td>6300</td>\n",
       "      <td>19400</td>\n",
       "    </tr>\n",
       "    <tr>\n",
       "      <th>2</th>\n",
       "      <td>esea_match_13770997.dem</td>\n",
       "      <td>de_overpass</td>\n",
       "      <td>3</td>\n",
       "      <td>279.39980</td>\n",
       "      <td>341.0084</td>\n",
       "      <td>Hentai Hooligans</td>\n",
       "      <td>Terrorist</td>\n",
       "      <td>SEMI_ECO</td>\n",
       "      <td>7650</td>\n",
       "      <td>19250</td>\n",
       "    </tr>\n",
       "    <tr>\n",
       "      <th>3</th>\n",
       "      <td>esea_match_13770997.dem</td>\n",
       "      <td>de_overpass</td>\n",
       "      <td>4</td>\n",
       "      <td>341.00840</td>\n",
       "      <td>435.4259</td>\n",
       "      <td>Hentai Hooligans</td>\n",
       "      <td>Terrorist</td>\n",
       "      <td>NORMAL</td>\n",
       "      <td>24900</td>\n",
       "      <td>23400</td>\n",
       "    </tr>\n",
       "    <tr>\n",
       "      <th>4</th>\n",
       "      <td>esea_match_13770997.dem</td>\n",
       "      <td>de_overpass</td>\n",
       "      <td>5</td>\n",
       "      <td>435.42590</td>\n",
       "      <td>484.2398</td>\n",
       "      <td>Animal Style</td>\n",
       "      <td>CounterTerrorist</td>\n",
       "      <td>ECO</td>\n",
       "      <td>5400</td>\n",
       "      <td>20550</td>\n",
       "    </tr>\n",
       "    <tr>\n",
       "      <th>...</th>\n",
       "      <td>...</td>\n",
       "      <td>...</td>\n",
       "      <td>...</td>\n",
       "      <td>...</td>\n",
       "      <td>...</td>\n",
       "      <td>...</td>\n",
       "      <td>...</td>\n",
       "      <td>...</td>\n",
       "      <td>...</td>\n",
       "      <td>...</td>\n",
       "    </tr>\n",
       "    <tr>\n",
       "      <th>161705</th>\n",
       "      <td>esea_match_13829173.dem</td>\n",
       "      <td>de_mirage</td>\n",
       "      <td>18</td>\n",
       "      <td>1647.20600</td>\n",
       "      <td>1694.6550</td>\n",
       "      <td>Team 1</td>\n",
       "      <td>Terrorist</td>\n",
       "      <td>ECO</td>\n",
       "      <td>4500</td>\n",
       "      <td>21950</td>\n",
       "    </tr>\n",
       "    <tr>\n",
       "      <th>161706</th>\n",
       "      <td>esea_match_13829173.dem</td>\n",
       "      <td>de_mirage</td>\n",
       "      <td>19</td>\n",
       "      <td>1694.65500</td>\n",
       "      <td>1753.4380</td>\n",
       "      <td>Team 1</td>\n",
       "      <td>Terrorist</td>\n",
       "      <td>NORMAL</td>\n",
       "      <td>16400</td>\n",
       "      <td>26100</td>\n",
       "    </tr>\n",
       "    <tr>\n",
       "      <th>161707</th>\n",
       "      <td>esea_match_13829173.dem</td>\n",
       "      <td>de_mirage</td>\n",
       "      <td>20</td>\n",
       "      <td>1753.43800</td>\n",
       "      <td>1803.6580</td>\n",
       "      <td>Team 1</td>\n",
       "      <td>Terrorist</td>\n",
       "      <td>FORCE_BUY</td>\n",
       "      <td>15100</td>\n",
       "      <td>26000</td>\n",
       "    </tr>\n",
       "    <tr>\n",
       "      <th>161708</th>\n",
       "      <td>esea_match_13829173.dem</td>\n",
       "      <td>de_mirage</td>\n",
       "      <td>21</td>\n",
       "      <td>1803.65800</td>\n",
       "      <td>1856.0850</td>\n",
       "      <td>Team 1</td>\n",
       "      <td>Terrorist</td>\n",
       "      <td>NORMAL</td>\n",
       "      <td>17550</td>\n",
       "      <td>25500</td>\n",
       "    </tr>\n",
       "    <tr>\n",
       "      <th>161709</th>\n",
       "      <td>esea_match_13829173.dem</td>\n",
       "      <td>de_mirage</td>\n",
       "      <td>22</td>\n",
       "      <td>1856.08500</td>\n",
       "      <td>1905.8660</td>\n",
       "      <td>Team 1</td>\n",
       "      <td>Terrorist</td>\n",
       "      <td>NORMAL</td>\n",
       "      <td>21150</td>\n",
       "      <td>26550</td>\n",
       "    </tr>\n",
       "  </tbody>\n",
       "</table>\n",
       "<p>377629 rows × 10 columns</p>\n",
       "</div>"
      ],
      "text/plain": [
       "                           file          map  round  start_seconds  \\\n",
       "0       esea_match_13770997.dem  de_overpass      1       94.30782   \n",
       "1       esea_match_13770997.dem  de_overpass      2      160.95910   \n",
       "2       esea_match_13770997.dem  de_overpass      3      279.39980   \n",
       "3       esea_match_13770997.dem  de_overpass      4      341.00840   \n",
       "4       esea_match_13770997.dem  de_overpass      5      435.42590   \n",
       "...                         ...          ...    ...            ...   \n",
       "161705  esea_match_13829173.dem    de_mirage     18     1647.20600   \n",
       "161706  esea_match_13829173.dem    de_mirage     19     1694.65500   \n",
       "161707  esea_match_13829173.dem    de_mirage     20     1753.43800   \n",
       "161708  esea_match_13829173.dem    de_mirage     21     1803.65800   \n",
       "161709  esea_match_13829173.dem    de_mirage     22     1856.08500   \n",
       "\n",
       "        end_seconds       winner_team       winner_side    round_type  \\\n",
       "0          160.9591  Hentai Hooligans         Terrorist  PISTOL_ROUND   \n",
       "1          279.3998  Hentai Hooligans         Terrorist           ECO   \n",
       "2          341.0084  Hentai Hooligans         Terrorist      SEMI_ECO   \n",
       "3          435.4259  Hentai Hooligans         Terrorist        NORMAL   \n",
       "4          484.2398      Animal Style  CounterTerrorist           ECO   \n",
       "...             ...               ...               ...           ...   \n",
       "161705    1694.6550            Team 1         Terrorist           ECO   \n",
       "161706    1753.4380            Team 1         Terrorist        NORMAL   \n",
       "161707    1803.6580            Team 1         Terrorist     FORCE_BUY   \n",
       "161708    1856.0850            Team 1         Terrorist        NORMAL   \n",
       "161709    1905.8660            Team 1         Terrorist        NORMAL   \n",
       "\n",
       "        ct_eq_val  t_eq_val  \n",
       "0            4300      4250  \n",
       "1            6300     19400  \n",
       "2            7650     19250  \n",
       "3           24900     23400  \n",
       "4            5400     20550  \n",
       "...           ...       ...  \n",
       "161705       4500     21950  \n",
       "161706      16400     26100  \n",
       "161707      15100     26000  \n",
       "161708      17550     25500  \n",
       "161709      21150     26550  \n",
       "\n",
       "[377629 rows x 10 columns]"
      ]
     },
     "execution_count": 18,
     "metadata": {},
     "output_type": "execute_result"
    }
   ],
   "source": [
    "metaData"
   ]
  },
  {
   "cell_type": "markdown",
   "metadata": {
    "papermill": {
     "duration": 0.012973,
     "end_time": "2020-08-31T00:13:17.687997",
     "exception": false,
     "start_time": "2020-08-31T00:13:17.675024",
     "status": "completed"
    },
    "tags": []
   },
   "source": [
    "## Game Time"
   ]
  },
  {
   "cell_type": "markdown",
   "metadata": {
    "papermill": {
     "duration": 0.013415,
     "end_time": "2020-08-31T00:13:17.714852",
     "exception": false,
     "start_time": "2020-08-31T00:13:17.701437",
     "status": "completed"
    },
    "tags": []
   },
   "source": [
    "### Map Prevalence"
   ]
  },
  {
   "cell_type": "code",
   "execution_count": 25,
   "metadata": {
    "execution": {
     "iopub.execute_input": "2020-08-31T00:13:17.755413Z",
     "iopub.status.busy": "2020-08-31T00:13:17.754575Z",
     "iopub.status.idle": "2020-08-31T00:13:18.462103Z",
     "shell.execute_reply": "2020-08-31T00:13:18.461388Z"
    },
    "papermill": {
     "duration": 0.733893,
     "end_time": "2020-08-31T00:13:18.462253",
     "exception": false,
     "start_time": "2020-08-31T00:13:17.728360",
     "status": "completed"
    },
    "tags": []
   },
   "outputs": [
    {
     "data": {
      "text/html": [
       "<div>\n",
       "<style scoped>\n",
       "    .dataframe tbody tr th:only-of-type {\n",
       "        vertical-align: middle;\n",
       "    }\n",
       "\n",
       "    .dataframe tbody tr th {\n",
       "        vertical-align: top;\n",
       "    }\n",
       "\n",
       "    .dataframe thead th {\n",
       "        text-align: right;\n",
       "    }\n",
       "</style>\n",
       "<table border=\"1\" class=\"dataframe\">\n",
       "  <thead>\n",
       "    <tr style=\"text-align: right;\">\n",
       "      <th></th>\n",
       "      <th>Times Played</th>\n",
       "      <th>count</th>\n",
       "    </tr>\n",
       "  </thead>\n",
       "  <tbody>\n",
       "    <tr>\n",
       "      <th>0</th>\n",
       "      <td>de_mirage</td>\n",
       "      <td>5279</td>\n",
       "    </tr>\n",
       "    <tr>\n",
       "      <th>1</th>\n",
       "      <td>de_cache</td>\n",
       "      <td>5018</td>\n",
       "    </tr>\n",
       "    <tr>\n",
       "      <th>2</th>\n",
       "      <td>de_inferno</td>\n",
       "      <td>2080</td>\n",
       "    </tr>\n",
       "    <tr>\n",
       "      <th>3</th>\n",
       "      <td>de_overpass</td>\n",
       "      <td>940</td>\n",
       "    </tr>\n",
       "    <tr>\n",
       "      <th>4</th>\n",
       "      <td>de_dust2</td>\n",
       "      <td>804</td>\n",
       "    </tr>\n",
       "    <tr>\n",
       "      <th>5</th>\n",
       "      <td>de_train</td>\n",
       "      <td>503</td>\n",
       "    </tr>\n",
       "    <tr>\n",
       "      <th>6</th>\n",
       "      <td>de_cbble</td>\n",
       "      <td>234</td>\n",
       "    </tr>\n",
       "    <tr>\n",
       "      <th>7</th>\n",
       "      <td>de_nuke</td>\n",
       "      <td>63</td>\n",
       "    </tr>\n",
       "  </tbody>\n",
       "</table>\n",
       "</div>"
      ],
      "text/plain": [
       "  Times Played  count\n",
       "0    de_mirage   5279\n",
       "1     de_cache   5018\n",
       "2   de_inferno   2080\n",
       "3  de_overpass    940\n",
       "4     de_dust2    804\n",
       "5     de_train    503\n",
       "6     de_cbble    234\n",
       "7      de_nuke     63"
      ]
     },
     "execution_count": 25,
     "metadata": {},
     "output_type": "execute_result"
    }
   ],
   "source": [
    "# picks out the relavent data and groups them by game and map\n",
    "mapPrevalence = metaData.groupby(['file','map']).count().reset_index()[['file','map']]\n",
    "# renames the column and counts the number of times a map is seen\n",
    "mapPrevalence = mapPrevalence['map'].value_counts().reset_index().rename(columns = {'index':'Map', 'map':'Times Played'})\n",
    "\n",
    "mapPrevalence"
   ]
  },
  {
   "cell_type": "code",
   "execution_count": 27,
   "metadata": {},
   "outputs": [
    {
     "data": {
      "text/plain": [
       "<Axes: xlabel='count', ylabel='Times Played'>"
      ]
     },
     "execution_count": 27,
     "metadata": {},
     "output_type": "execute_result"
    },
    {
     "data": {
      "image/png": "[encoded data removed]",
      "text/plain": [
       "<Figure size 1200x800 with 1 Axes>"
      ]
     },
     "metadata": {},
     "output_type": "display_data"
    }
   ],
   "source": [
    "# plots the data\n",
    "fig, ax = plt.subplots(figsize = (12,8))\n",
    "sns.barplot(x='count',y='Times Played', data = mapPrevalence)"
   ]
  },
  {
   "cell_type": "markdown",
   "metadata": {
    "papermill": {
     "duration": 0.015076,
     "end_time": "2020-08-31T00:13:18.492585",
     "exception": false,
     "start_time": "2020-08-31T00:13:18.477509",
     "status": "completed"
    },
    "tags": []
   },
   "source": [
    "It can be seen that Mirage and Cache are by far the most picked maps, and Nuke by far the least. A possible reason for this will be shown later when looking at map balance."
   ]
  },
  {
   "cell_type": "code",
   "execution_count": 28,
   "metadata": {
    "execution": {
     "iopub.execute_input": "2020-08-31T00:13:18.535365Z",
     "iopub.status.busy": "2020-08-31T00:13:18.534321Z",
     "iopub.status.idle": "2020-08-31T00:13:18.539577Z",
     "shell.execute_reply": "2020-08-31T00:13:18.538860Z"
    },
    "papermill": {
     "duration": 0.032283,
     "end_time": "2020-08-31T00:13:18.539720",
     "exception": false,
     "start_time": "2020-08-31T00:13:18.507437",
     "status": "completed"
    },
    "tags": []
   },
   "outputs": [
    {
     "data": {
      "text/html": [
       "<div>\n",
       "<style scoped>\n",
       "    .dataframe tbody tr th:only-of-type {\n",
       "        vertical-align: middle;\n",
       "    }\n",
       "\n",
       "    .dataframe tbody tr th {\n",
       "        vertical-align: top;\n",
       "    }\n",
       "\n",
       "    .dataframe thead th {\n",
       "        text-align: right;\n",
       "    }\n",
       "</style>\n",
       "<table border=\"1\" class=\"dataframe\">\n",
       "  <thead>\n",
       "    <tr style=\"text-align: right;\">\n",
       "      <th></th>\n",
       "      <th>Times Played</th>\n",
       "      <th>count</th>\n",
       "    </tr>\n",
       "  </thead>\n",
       "  <tbody>\n",
       "    <tr>\n",
       "      <th>0</th>\n",
       "      <td>de_mirage</td>\n",
       "      <td>5279</td>\n",
       "    </tr>\n",
       "    <tr>\n",
       "      <th>1</th>\n",
       "      <td>de_cache</td>\n",
       "      <td>5018</td>\n",
       "    </tr>\n",
       "    <tr>\n",
       "      <th>2</th>\n",
       "      <td>de_inferno</td>\n",
       "      <td>2080</td>\n",
       "    </tr>\n",
       "    <tr>\n",
       "      <th>3</th>\n",
       "      <td>de_overpass</td>\n",
       "      <td>940</td>\n",
       "    </tr>\n",
       "    <tr>\n",
       "      <th>4</th>\n",
       "      <td>de_dust2</td>\n",
       "      <td>804</td>\n",
       "    </tr>\n",
       "    <tr>\n",
       "      <th>5</th>\n",
       "      <td>de_train</td>\n",
       "      <td>503</td>\n",
       "    </tr>\n",
       "    <tr>\n",
       "      <th>6</th>\n",
       "      <td>de_cbble</td>\n",
       "      <td>234</td>\n",
       "    </tr>\n",
       "    <tr>\n",
       "      <th>7</th>\n",
       "      <td>de_nuke</td>\n",
       "      <td>63</td>\n",
       "    </tr>\n",
       "  </tbody>\n",
       "</table>\n",
       "</div>"
      ],
      "text/plain": [
       "  Times Played  count\n",
       "0    de_mirage   5279\n",
       "1     de_cache   5018\n",
       "2   de_inferno   2080\n",
       "3  de_overpass    940\n",
       "4     de_dust2    804\n",
       "5     de_train    503\n",
       "6     de_cbble    234\n",
       "7      de_nuke     63"
      ]
     },
     "execution_count": 28,
     "metadata": {},
     "output_type": "execute_result"
    }
   ],
   "source": [
    "mapPrevalence"
   ]
  },
  {
   "cell_type": "markdown",
   "metadata": {
    "papermill": {
     "duration": 0.013815,
     "end_time": "2020-08-31T00:13:18.567813",
     "exception": false,
     "start_time": "2020-08-31T00:13:18.553998",
     "status": "completed"
    },
    "tags": []
   },
   "source": [
    "### Game Durations\n",
    "\n",
    "Finding the number of rounds in each game"
   ]
  },
  {
   "cell_type": "code",
   "execution_count": 29,
   "metadata": {
    "execution": {
     "iopub.execute_input": "2020-08-31T00:13:18.605618Z",
     "iopub.status.busy": "2020-08-31T00:13:18.604775Z",
     "iopub.status.idle": "2020-08-31T00:13:18.694210Z",
     "shell.execute_reply": "2020-08-31T00:13:18.693421Z"
    },
    "papermill": {
     "duration": 0.112274,
     "end_time": "2020-08-31T00:13:18.694363",
     "exception": false,
     "start_time": "2020-08-31T00:13:18.582089",
     "status": "completed"
    },
    "tags": []
   },
   "outputs": [],
   "source": [
    "# finding the number of rounds in each game and renaming the columns\n",
    "gameRounds = metaData[['file','round']].groupby('file').max().rename(columns = {'round':'Number of Rounds'}).reset_index()"
   ]
  },
  {
   "cell_type": "code",
   "execution_count": 30,
   "metadata": {
    "execution": {
     "iopub.execute_input": "2020-08-31T00:13:18.732288Z",
     "iopub.status.busy": "2020-08-31T00:13:18.731446Z",
     "iopub.status.idle": "2020-08-31T00:13:18.814733Z",
     "shell.execute_reply": "2020-08-31T00:13:18.813960Z"
    },
    "papermill": {
     "duration": 0.104816,
     "end_time": "2020-08-31T00:13:18.814876",
     "exception": false,
     "start_time": "2020-08-31T00:13:18.710060",
     "status": "completed"
    },
    "tags": []
   },
   "outputs": [
    {
     "data": {
      "text/plain": [
       "round\n",
       "1    13198\n",
       "2     1716\n",
       "3        7\n",
       "Name: count, dtype: int64"
      ]
     },
     "execution_count": 30,
     "metadata": {},
     "output_type": "execute_result"
    }
   ],
   "source": [
    "# some of the data for the games do not begin at round 1 as can be seen below\n",
    "metaData[['file','round']].groupby('file').min()['round'].value_counts()"
   ]
  },
  {
   "cell_type": "code",
   "execution_count": 31,
   "metadata": {
    "execution": {
     "iopub.execute_input": "2020-08-31T00:13:18.855101Z",
     "iopub.status.busy": "2020-08-31T00:13:18.854126Z",
     "iopub.status.idle": "2020-08-31T00:13:19.012574Z",
     "shell.execute_reply": "2020-08-31T00:13:19.011734Z"
    },
    "papermill": {
     "duration": 0.182184,
     "end_time": "2020-08-31T00:13:19.012714",
     "exception": false,
     "start_time": "2020-08-31T00:13:18.830530",
     "status": "completed"
    },
    "tags": []
   },
   "outputs": [
    {
     "name": "stdout",
     "output_type": "stream",
     "text": [
      "start_seconds    138.360112\n",
      "dtype: float64\n",
      "start_seconds    31.812854\n",
      "dtype: float64\n"
     ]
    }
   ],
   "source": [
    "# it was going to be a little tedious to filter the start time of each round because of the above. So I just found an average\n",
    "# start time and used that. The average game times are 2268 second which is small compared to the std of the start times.\n",
    "startTime = metaData[['file','start_seconds']].groupby('file').min().mean()\n",
    "startTimeStd = metaData[['file','start_seconds']].groupby('file').min().std()\n",
    "print(startTime)\n",
    "print(startTimeStd)"
   ]
  },
  {
   "cell_type": "code",
   "execution_count": 32,
   "metadata": {
    "execution": {
     "iopub.execute_input": "2020-08-31T00:13:19.054038Z",
     "iopub.status.busy": "2020-08-31T00:13:19.053029Z",
     "iopub.status.idle": "2020-08-31T00:13:19.163029Z",
     "shell.execute_reply": "2020-08-31T00:13:19.162172Z"
    },
    "papermill": {
     "duration": 0.134845,
     "end_time": "2020-08-31T00:13:19.163177",
     "exception": false,
     "start_time": "2020-08-31T00:13:19.028332",
     "status": "completed"
    },
    "tags": []
   },
   "outputs": [
    {
     "name": "stdout",
     "output_type": "stream",
     "text": [
      "Game Time /min    2268.417493\n",
      "dtype: float64\n"
     ]
    }
   ],
   "source": [
    "# finding the total game time\n",
    "gameTime = metaData[['file','end_seconds']].groupby('file').max()\n",
    "# renaming the columns and subtracting the average start time\n",
    "gameTime = gameTime.rename(columns = {'end_seconds':'Game Time /min'})-startTime.iloc[0]\n",
    "print(gameTime.mean())\n",
    "# convert from seconds to minutes\n",
    "gameTime /= 60"
   ]
  },
  {
   "cell_type": "code",
   "execution_count": 33,
   "metadata": {
    "execution": {
     "iopub.execute_input": "2020-08-31T00:13:19.209081Z",
     "iopub.status.busy": "2020-08-31T00:13:19.203191Z",
     "iopub.status.idle": "2020-08-31T00:13:19.670877Z",
     "shell.execute_reply": "2020-08-31T00:13:19.671478Z"
    },
    "papermill": {
     "duration": 0.49297,
     "end_time": "2020-08-31T00:13:19.671695",
     "exception": false,
     "start_time": "2020-08-31T00:13:19.178725",
     "status": "completed"
    },
    "tags": []
   },
   "outputs": [
    {
     "data": {
      "text/plain": [
       "<Axes: xlabel='Game Time /min'>"
      ]
     },
     "execution_count": 33,
     "metadata": {},
     "output_type": "execute_result"
    },
    {
     "data": {
      "image/png": "[encoded data removed]",
      "text/plain": [
       "<Figure size 1800x400 with 1 Axes>"
      ]
     },
     "metadata": {},
     "output_type": "display_data"
    },
    {
     "data": {
      "image/png": "[encoded data removed]",
      "text/plain": [
       "<Figure size 1800x400 with 1 Axes>"
      ]
     },
     "metadata": {},
     "output_type": "display_data"
    }
   ],
   "source": [
    "# plot the results for the number of rounds and minutes per game\n",
    "\n",
    "fig, ax = plt.subplots(figsize=(18,4))\n",
    "sns.violinplot(x = 'Number of Rounds', data = gameRounds, ax = ax)\n",
    "\n",
    "fig2, ax2 = plt.subplots(figsize=(18,4))\n",
    "sns.violinplot(x = 'Game Time /min', data = gameTime, ax = ax2)"
   ]
  },
  {
   "cell_type": "markdown",
   "metadata": {
    "papermill": {
     "duration": 0.016348,
     "end_time": "2020-08-31T00:13:19.704713",
     "exception": false,
     "start_time": "2020-08-31T00:13:19.688365",
     "status": "completed"
    },
    "tags": []
   },
   "source": [
    "The top graph shows that games generally have between 20 and 30 rounds which indicates generally balanced matchups. The numbers cuts off abruptly at 30 as that is the maximum number of rounds without overtime. Three further bulges can be seen afterwards (at around 35, 42, and 47) showing the data for further overtimes (which are progressively less common).\n",
    "\n",
    "The bottom graph shows that games generally last between 30 and 45 minutes."
   ]
  },
  {
   "cell_type": "markdown",
   "metadata": {
    "papermill": {
     "duration": 0.015572,
     "end_time": "2020-08-31T00:13:19.736882",
     "exception": false,
     "start_time": "2020-08-31T00:13:19.721310",
     "status": "completed"
    },
    "tags": []
   },
   "source": [
    "### Map Round Durations"
   ]
  },
  {
   "cell_type": "code",
   "execution_count": 34,
   "metadata": {
    "execution": {
     "iopub.execute_input": "2020-08-31T00:13:19.781847Z",
     "iopub.status.busy": "2020-08-31T00:13:19.780854Z",
     "iopub.status.idle": "2020-08-31T00:13:20.007500Z",
     "shell.execute_reply": "2020-08-31T00:13:20.006454Z"
    },
    "papermill": {
     "duration": 0.253621,
     "end_time": "2020-08-31T00:13:20.007665",
     "exception": false,
     "start_time": "2020-08-31T00:13:19.754044",
     "status": "completed"
    },
    "tags": []
   },
   "outputs": [
    {
     "data": {
      "text/html": [
       "<div>\n",
       "<style scoped>\n",
       "    .dataframe tbody tr th:only-of-type {\n",
       "        vertical-align: middle;\n",
       "    }\n",
       "\n",
       "    .dataframe tbody tr th {\n",
       "        vertical-align: top;\n",
       "    }\n",
       "\n",
       "    .dataframe thead th {\n",
       "        text-align: right;\n",
       "    }\n",
       "</style>\n",
       "<table border=\"1\" class=\"dataframe\">\n",
       "  <thead>\n",
       "    <tr style=\"text-align: right;\">\n",
       "      <th></th>\n",
       "      <th>Round Duration /s</th>\n",
       "      <th>Sigma /s</th>\n",
       "    </tr>\n",
       "    <tr>\n",
       "      <th>map</th>\n",
       "      <th></th>\n",
       "      <th></th>\n",
       "    </tr>\n",
       "  </thead>\n",
       "  <tbody>\n",
       "    <tr>\n",
       "      <th>de_cache</th>\n",
       "      <td>86.100790</td>\n",
       "      <td>24.282304</td>\n",
       "    </tr>\n",
       "    <tr>\n",
       "      <th>de_cbble</th>\n",
       "      <td>86.031598</td>\n",
       "      <td>23.993863</td>\n",
       "    </tr>\n",
       "    <tr>\n",
       "      <th>de_dust2</th>\n",
       "      <td>83.452903</td>\n",
       "      <td>24.185220</td>\n",
       "    </tr>\n",
       "    <tr>\n",
       "      <th>de_inferno</th>\n",
       "      <td>91.436542</td>\n",
       "      <td>25.605594</td>\n",
       "    </tr>\n",
       "    <tr>\n",
       "      <th>de_mirage</th>\n",
       "      <td>84.807388</td>\n",
       "      <td>25.043647</td>\n",
       "    </tr>\n",
       "    <tr>\n",
       "      <th>de_nuke</th>\n",
       "      <td>83.238729</td>\n",
       "      <td>26.086363</td>\n",
       "    </tr>\n",
       "    <tr>\n",
       "      <th>de_overpass</th>\n",
       "      <td>90.802485</td>\n",
       "      <td>25.445677</td>\n",
       "    </tr>\n",
       "    <tr>\n",
       "      <th>de_train</th>\n",
       "      <td>82.106317</td>\n",
       "      <td>24.009712</td>\n",
       "    </tr>\n",
       "  </tbody>\n",
       "</table>\n",
       "</div>"
      ],
      "text/plain": [
       "             Round Duration /s   Sigma /s\n",
       "map                                      \n",
       "de_cache             86.100790  24.282304\n",
       "de_cbble             86.031598  23.993863\n",
       "de_dust2             83.452903  24.185220\n",
       "de_inferno           91.436542  25.605594\n",
       "de_mirage            84.807388  25.043647\n",
       "de_nuke              83.238729  26.086363\n",
       "de_overpass          90.802485  25.445677\n",
       "de_train             82.106317  24.009712"
      ]
     },
     "execution_count": 34,
     "metadata": {},
     "output_type": "execute_result"
    }
   ],
   "source": [
    "# create a column with the round duration\n",
    "metaData['Round Duration /s'] = metaData['end_seconds']-metaData['start_seconds']\n",
    "# remove rounds that lasted more than 180 seconds as they must be erroneous\n",
    "duration = metaData[metaData['Round Duration /s'] < 180]\n",
    "#calculate the mean and std of the duration and present the data\n",
    "durationMean = duration[['map','Round Duration /s']].groupby('map').mean()\n",
    "durationStd = duration[['map','Round Duration /s']].groupby('map').std().rename(columns = {'Round Duration /s':'Sigma /s'})\n",
    "pd.concat([durationMean, durationStd], axis = 1)"
   ]
  },
  {
   "cell_type": "code",
   "execution_count": 41,
   "metadata": {},
   "outputs": [
    {
     "data": {
      "text/html": [
       "<div>\n",
       "<style scoped>\n",
       "    .dataframe tbody tr th:only-of-type {\n",
       "        vertical-align: middle;\n",
       "    }\n",
       "\n",
       "    .dataframe tbody tr th {\n",
       "        vertical-align: top;\n",
       "    }\n",
       "\n",
       "    .dataframe thead th {\n",
       "        text-align: right;\n",
       "    }\n",
       "</style>\n",
       "<table border=\"1\" class=\"dataframe\">\n",
       "  <thead>\n",
       "    <tr style=\"text-align: right;\">\n",
       "      <th></th>\n",
       "      <th>file</th>\n",
       "      <th>map</th>\n",
       "      <th>round</th>\n",
       "      <th>start_seconds</th>\n",
       "      <th>end_seconds</th>\n",
       "      <th>winner_team</th>\n",
       "      <th>winner_side</th>\n",
       "      <th>round_type</th>\n",
       "      <th>ct_eq_val</th>\n",
       "      <th>t_eq_val</th>\n",
       "      <th>Round Duration /s</th>\n",
       "    </tr>\n",
       "  </thead>\n",
       "  <tbody>\n",
       "    <tr>\n",
       "      <th>0</th>\n",
       "      <td>esea_match_13770997.dem</td>\n",
       "      <td>de_overpass</td>\n",
       "      <td>1</td>\n",
       "      <td>94.30782</td>\n",
       "      <td>160.9591</td>\n",
       "      <td>Hentai Hooligans</td>\n",
       "      <td>Terrorist</td>\n",
       "      <td>PISTOL_ROUND</td>\n",
       "      <td>4300</td>\n",
       "      <td>4250</td>\n",
       "      <td>66.65128</td>\n",
       "    </tr>\n",
       "    <tr>\n",
       "      <th>1</th>\n",
       "      <td>esea_match_13770997.dem</td>\n",
       "      <td>de_overpass</td>\n",
       "      <td>2</td>\n",
       "      <td>160.95910</td>\n",
       "      <td>279.3998</td>\n",
       "      <td>Hentai Hooligans</td>\n",
       "      <td>Terrorist</td>\n",
       "      <td>ECO</td>\n",
       "      <td>6300</td>\n",
       "      <td>19400</td>\n",
       "      <td>118.44070</td>\n",
       "    </tr>\n",
       "    <tr>\n",
       "      <th>2</th>\n",
       "      <td>esea_match_13770997.dem</td>\n",
       "      <td>de_overpass</td>\n",
       "      <td>3</td>\n",
       "      <td>279.39980</td>\n",
       "      <td>341.0084</td>\n",
       "      <td>Hentai Hooligans</td>\n",
       "      <td>Terrorist</td>\n",
       "      <td>SEMI_ECO</td>\n",
       "      <td>7650</td>\n",
       "      <td>19250</td>\n",
       "      <td>61.60860</td>\n",
       "    </tr>\n",
       "    <tr>\n",
       "      <th>3</th>\n",
       "      <td>esea_match_13770997.dem</td>\n",
       "      <td>de_overpass</td>\n",
       "      <td>4</td>\n",
       "      <td>341.00840</td>\n",
       "      <td>435.4259</td>\n",
       "      <td>Hentai Hooligans</td>\n",
       "      <td>Terrorist</td>\n",
       "      <td>NORMAL</td>\n",
       "      <td>24900</td>\n",
       "      <td>23400</td>\n",
       "      <td>94.41750</td>\n",
       "    </tr>\n",
       "    <tr>\n",
       "      <th>4</th>\n",
       "      <td>esea_match_13770997.dem</td>\n",
       "      <td>de_overpass</td>\n",
       "      <td>5</td>\n",
       "      <td>435.42590</td>\n",
       "      <td>484.2398</td>\n",
       "      <td>Animal Style</td>\n",
       "      <td>CounterTerrorist</td>\n",
       "      <td>ECO</td>\n",
       "      <td>5400</td>\n",
       "      <td>20550</td>\n",
       "      <td>48.81390</td>\n",
       "    </tr>\n",
       "    <tr>\n",
       "      <th>...</th>\n",
       "      <td>...</td>\n",
       "      <td>...</td>\n",
       "      <td>...</td>\n",
       "      <td>...</td>\n",
       "      <td>...</td>\n",
       "      <td>...</td>\n",
       "      <td>...</td>\n",
       "      <td>...</td>\n",
       "      <td>...</td>\n",
       "      <td>...</td>\n",
       "      <td>...</td>\n",
       "    </tr>\n",
       "    <tr>\n",
       "      <th>161705</th>\n",
       "      <td>esea_match_13829173.dem</td>\n",
       "      <td>de_mirage</td>\n",
       "      <td>18</td>\n",
       "      <td>1647.20600</td>\n",
       "      <td>1694.6550</td>\n",
       "      <td>Team 1</td>\n",
       "      <td>Terrorist</td>\n",
       "      <td>ECO</td>\n",
       "      <td>4500</td>\n",
       "      <td>21950</td>\n",
       "      <td>47.44900</td>\n",
       "    </tr>\n",
       "    <tr>\n",
       "      <th>161706</th>\n",
       "      <td>esea_match_13829173.dem</td>\n",
       "      <td>de_mirage</td>\n",
       "      <td>19</td>\n",
       "      <td>1694.65500</td>\n",
       "      <td>1753.4380</td>\n",
       "      <td>Team 1</td>\n",
       "      <td>Terrorist</td>\n",
       "      <td>NORMAL</td>\n",
       "      <td>16400</td>\n",
       "      <td>26100</td>\n",
       "      <td>58.78300</td>\n",
       "    </tr>\n",
       "    <tr>\n",
       "      <th>161707</th>\n",
       "      <td>esea_match_13829173.dem</td>\n",
       "      <td>de_mirage</td>\n",
       "      <td>20</td>\n",
       "      <td>1753.43800</td>\n",
       "      <td>1803.6580</td>\n",
       "      <td>Team 1</td>\n",
       "      <td>Terrorist</td>\n",
       "      <td>FORCE_BUY</td>\n",
       "      <td>15100</td>\n",
       "      <td>26000</td>\n",
       "      <td>50.22000</td>\n",
       "    </tr>\n",
       "    <tr>\n",
       "      <th>161708</th>\n",
       "      <td>esea_match_13829173.dem</td>\n",
       "      <td>de_mirage</td>\n",
       "      <td>21</td>\n",
       "      <td>1803.65800</td>\n",
       "      <td>1856.0850</td>\n",
       "      <td>Team 1</td>\n",
       "      <td>Terrorist</td>\n",
       "      <td>NORMAL</td>\n",
       "      <td>17550</td>\n",
       "      <td>25500</td>\n",
       "      <td>52.42700</td>\n",
       "    </tr>\n",
       "    <tr>\n",
       "      <th>161709</th>\n",
       "      <td>esea_match_13829173.dem</td>\n",
       "      <td>de_mirage</td>\n",
       "      <td>22</td>\n",
       "      <td>1856.08500</td>\n",
       "      <td>1905.8660</td>\n",
       "      <td>Team 1</td>\n",
       "      <td>Terrorist</td>\n",
       "      <td>NORMAL</td>\n",
       "      <td>21150</td>\n",
       "      <td>26550</td>\n",
       "      <td>49.78100</td>\n",
       "    </tr>\n",
       "  </tbody>\n",
       "</table>\n",
       "<p>374692 rows × 11 columns</p>\n",
       "</div>"
      ],
      "text/plain": [
       "                           file          map  round  start_seconds  \\\n",
       "0       esea_match_13770997.dem  de_overpass      1       94.30782   \n",
       "1       esea_match_13770997.dem  de_overpass      2      160.95910   \n",
       "2       esea_match_13770997.dem  de_overpass      3      279.39980   \n",
       "3       esea_match_13770997.dem  de_overpass      4      341.00840   \n",
       "4       esea_match_13770997.dem  de_overpass      5      435.42590   \n",
       "...                         ...          ...    ...            ...   \n",
       "161705  esea_match_13829173.dem    de_mirage     18     1647.20600   \n",
       "161706  esea_match_13829173.dem    de_mirage     19     1694.65500   \n",
       "161707  esea_match_13829173.dem    de_mirage     20     1753.43800   \n",
       "161708  esea_match_13829173.dem    de_mirage     21     1803.65800   \n",
       "161709  esea_match_13829173.dem    de_mirage     22     1856.08500   \n",
       "\n",
       "        end_seconds       winner_team       winner_side    round_type  \\\n",
       "0          160.9591  Hentai Hooligans         Terrorist  PISTOL_ROUND   \n",
       "1          279.3998  Hentai Hooligans         Terrorist           ECO   \n",
       "2          341.0084  Hentai Hooligans         Terrorist      SEMI_ECO   \n",
       "3          435.4259  Hentai Hooligans         Terrorist        NORMAL   \n",
       "4          484.2398      Animal Style  CounterTerrorist           ECO   \n",
       "...             ...               ...               ...           ...   \n",
       "161705    1694.6550            Team 1         Terrorist           ECO   \n",
       "161706    1753.4380            Team 1         Terrorist        NORMAL   \n",
       "161707    1803.6580            Team 1         Terrorist     FORCE_BUY   \n",
       "161708    1856.0850            Team 1         Terrorist        NORMAL   \n",
       "161709    1905.8660            Team 1         Terrorist        NORMAL   \n",
       "\n",
       "        ct_eq_val  t_eq_val  Round Duration /s  \n",
       "0            4300      4250           66.65128  \n",
       "1            6300     19400          118.44070  \n",
       "2            7650     19250           61.60860  \n",
       "3           24900     23400           94.41750  \n",
       "4            5400     20550           48.81390  \n",
       "...           ...       ...                ...  \n",
       "161705       4500     21950           47.44900  \n",
       "161706      16400     26100           58.78300  \n",
       "161707      15100     26000           50.22000  \n",
       "161708      17550     25500           52.42700  \n",
       "161709      21150     26550           49.78100  \n",
       "\n",
       "[374692 rows x 11 columns]"
      ]
     },
     "execution_count": 41,
     "metadata": {},
     "output_type": "execute_result"
    }
   ],
   "source": [
    "duration"
   ]
  },
  {
   "cell_type": "code",
   "execution_count": 47,
   "metadata": {
    "execution": {
     "iopub.execute_input": "2020-08-31T00:13:20.066688Z",
     "iopub.status.busy": "2020-08-31T00:13:20.057812Z",
     "iopub.status.idle": "2020-08-31T00:13:21.663551Z",
     "shell.execute_reply": "2020-08-31T00:13:21.664221Z"
    },
    "papermill": {
     "duration": 1.637377,
     "end_time": "2020-08-31T00:13:21.664421",
     "exception": false,
     "start_time": "2020-08-31T00:13:20.027044",
     "status": "completed"
    },
    "tags": []
   },
   "outputs": [
    {
     "data": {
      "text/plain": [
       "<Axes: xlabel='Round Duration /s', ylabel='map'>"
      ]
     },
     "execution_count": 47,
     "metadata": {},
     "output_type": "execute_result"
    },
    {
     "data": {
      "image/png": "[encoded data removed]",
      "text/plain": [
       "<Figure size 800x1200 with 1 Axes>"
      ]
     },
     "metadata": {},
     "output_type": "display_data"
    }
   ],
   "source": [
    "# plotting the data\n",
    "fig, ax1 = plt.subplots(figsize = (8, 12))\n",
    "sns.set(font_scale = 1.3)\n",
    "sns.violinplot(y = 'map', x = 'Round Duration /s', data = duration)"
   ]
  },
  {
   "cell_type": "markdown",
   "metadata": {
    "papermill": {
     "duration": 0.016358,
     "end_time": "2020-08-31T00:13:21.697729",
     "exception": false,
     "start_time": "2020-08-31T00:13:21.681371",
     "status": "completed"
    },
    "tags": []
   },
   "source": [
    "The data shows that on average, rounds in CSGO all last about the same amount of time, regardless of map. In general they last between 80 and 90 seconds. I was expecting more unbalanced maps to have shorter rounds as the side towards which the map is unbalanced may win more quickly. The statistics do not support this theory, however."
   ]
  },
  {
   "cell_type": "code",
   "execution_count": 58,
   "metadata": {
    "execution": {
     "iopub.execute_input": "2020-08-31T00:13:21.743245Z",
     "iopub.status.busy": "2020-08-31T00:13:21.742194Z",
     "iopub.status.idle": "2020-08-31T00:13:23.466736Z",
     "shell.execute_reply": "2020-08-31T00:13:23.465916Z"
    },
    "papermill": {
     "duration": 1.752142,
     "end_time": "2020-08-31T00:13:23.466874",
     "exception": false,
     "start_time": "2020-08-31T00:13:21.714732",
     "status": "completed"
    },
    "tags": []
   },
   "outputs": [
    {
     "name": "stdout",
     "output_type": "stream",
     "text": [
      "Duplicate count: 377624\n",
      "Value counts:\n",
      " round_type\n",
      "NORMAL          155582\n",
      "ECO             128613\n",
      "FORCE_BUY        40876\n",
      "PISTOL_ROUND     28114\n",
      "SEMI_ECO         24444\n",
      "Name: count, dtype: int64\n"
     ]
    },
    {
     "data": {
      "text/html": [
       "<div>\n",
       "<style scoped>\n",
       "    .dataframe tbody tr th:only-of-type {\n",
       "        vertical-align: middle;\n",
       "    }\n",
       "\n",
       "    .dataframe tbody tr th {\n",
       "        vertical-align: top;\n",
       "    }\n",
       "\n",
       "    .dataframe thead th {\n",
       "        text-align: right;\n",
       "    }\n",
       "</style>\n",
       "<table border=\"1\" class=\"dataframe\">\n",
       "  <thead>\n",
       "    <tr style=\"text-align: right;\">\n",
       "      <th></th>\n",
       "      <th>Round Duration /s</th>\n",
       "      <th>Sigma /s</th>\n",
       "    </tr>\n",
       "    <tr>\n",
       "      <th>Round Type</th>\n",
       "      <th></th>\n",
       "      <th></th>\n",
       "    </tr>\n",
       "  </thead>\n",
       "  <tbody>\n",
       "    <tr>\n",
       "      <th>Eco</th>\n",
       "      <td>79.917819</td>\n",
       "      <td>24.303581</td>\n",
       "    </tr>\n",
       "    <tr>\n",
       "      <th>Force Buy</th>\n",
       "      <td>87.453890</td>\n",
       "      <td>24.516028</td>\n",
       "    </tr>\n",
       "    <tr>\n",
       "      <th>Normal</th>\n",
       "      <td>93.575737</td>\n",
       "      <td>24.440773</td>\n",
       "    </tr>\n",
       "    <tr>\n",
       "      <th>Pistol Round</th>\n",
       "      <td>76.516536</td>\n",
       "      <td>19.724463</td>\n",
       "    </tr>\n",
       "    <tr>\n",
       "      <th>Semi-eco</th>\n",
       "      <td>84.699824</td>\n",
       "      <td>24.098440</td>\n",
       "    </tr>\n",
       "  </tbody>\n",
       "</table>\n",
       "</div>"
      ],
      "text/plain": [
       "              Round Duration /s   Sigma /s\n",
       "Round Type                                \n",
       "Eco                   79.917819  24.303581\n",
       "Force Buy             87.453890  24.516028\n",
       "Normal                93.575737  24.440773\n",
       "Pistol Round          76.516536  19.724463\n",
       "Semi-eco              84.699824  24.098440"
      ]
     },
     "execution_count": 58,
     "metadata": {},
     "output_type": "execute_result"
    }
   ],
   "source": [
    "print(\"Duplicate count:\", metaData['round_type'].duplicated().sum())\n",
    "print(\"Value counts:\\n\", metaData['round_type'].value_counts())\n",
    "\n",
    "# extracting the relavent columns and renaming them\n",
    "metaDataFormatted = duration[['round_type','Round Duration /s']].rename(columns = {'round_type':'Round Type'})\n",
    "\n",
    "# renaming the round types so they are more presentable\n",
    "metaDataFormatted['Round Type'] = metaDataFormatted['Round Type'].map({'PISTOL_ROUND':'Pistol Round','ECO':'Eco','SEMI_ECO':'Semi-eco',\n",
    "                                                         'NORMAL':'Normal','FORCE_BUY':'Force Buy'})\n",
    "\n",
    "#calculate the mean and std of the duration and present the data\n",
    "durationMean = metaDataFormatted[['Round Type','Round Duration /s']].groupby('Round Type').mean()\n",
    "durationStd = metaDataFormatted[['Round Type','Round Duration /s']].groupby('Round Type').std().rename(columns = {'Round Duration /s':'Sigma /s'})\n",
    "pd.concat([durationMean, durationStd], axis = 1)"
   ]
  },
  {
   "cell_type": "code",
   "execution_count": 60,
   "metadata": {},
   "outputs": [
    {
     "name": "stderr",
     "output_type": "stream",
     "text": [
      "C:\\Users\\yoges\\AppData\\Local\\Temp\\ipykernel_13352\\211635174.py:8: FutureWarning: \n",
      "\n",
      "Passing `palette` without assigning `hue` is deprecated and will be removed in v0.14.0. Assign the `y` variable to `hue` and set `legend=False` for the same effect.\n",
      "\n",
      "  sns.violinplot(y='Round Type', x='Round Duration /s', data=metaDataFormatted, palette=palette)\n"
     ]
    },
    {
     "data": {
      "image/png": "[encoded data removed]",
      "text/plain": [
       "<Figure size 800x1200 with 1 Axes>"
      ]
     },
     "metadata": {},
     "output_type": "display_data"
    }
   ],
   "source": [
    "fig, ax1 = plt.subplots(figsize=(8, 12))\n",
    "sns.set(font_scale=1.3)\n",
    "\n",
    "# Set a color palette\n",
    "palette = sns.color_palette(\"husl\", n_colors=len(metaDataFormatted['Round Type'].unique()))\n",
    "\n",
    "# Create the violin plot with the specified palette\n",
    "sns.violinplot(y='Round Type', x='Round Duration /s', data=metaDataFormatted, palette=palette)\n",
    "\n",
    "# Show the plot\n",
    "plt.show()"
   ]
  },
  {
   "cell_type": "markdown",
   "metadata": {
    "papermill": {
     "duration": 0.017191,
     "end_time": "2020-08-31T00:13:23.501940",
     "exception": false,
     "start_time": "2020-08-31T00:13:23.484749",
     "status": "completed"
    },
    "tags": []
   },
   "source": [
    "The different types of rounds are very similar, however, \"normal\" rounds are generally a little bit longer. Pistol rounds (first rounds) are often slightly shorter which much less spread in the durations. I speculate that this is due to teams quickly rushinf in to finish the pistol round, knowing their own standard strategy, as well has knowing pretty much what the enemy has."
   ]
  },
  {
   "cell_type": "markdown",
   "metadata": {
    "papermill": {
     "duration": 0.017057,
     "end_time": "2020-08-31T00:13:23.536597",
     "exception": false,
     "start_time": "2020-08-31T00:13:23.519540",
     "status": "completed"
    },
    "tags": []
   },
   "source": [
    "## Sidedness of the Maps"
   ]
  },
  {
   "cell_type": "code",
   "execution_count": 62,
   "metadata": {
    "execution": {
     "iopub.execute_input": "2020-08-31T00:13:23.586656Z",
     "iopub.status.busy": "2020-08-31T00:13:23.581590Z",
     "iopub.status.idle": "2020-08-31T00:13:25.782117Z",
     "shell.execute_reply": "2020-08-31T00:13:25.781441Z"
    },
    "papermill": {
     "duration": 2.22772,
     "end_time": "2020-08-31T00:13:25.782276",
     "exception": false,
     "start_time": "2020-08-31T00:13:23.554556",
     "status": "completed"
    },
    "tags": []
   },
   "outputs": [
    {
     "data": {
      "text/html": [
       "<div>\n",
       "<style scoped>\n",
       "    .dataframe tbody tr th:only-of-type {\n",
       "        vertical-align: middle;\n",
       "    }\n",
       "\n",
       "    .dataframe tbody tr th {\n",
       "        vertical-align: top;\n",
       "    }\n",
       "\n",
       "    .dataframe thead th {\n",
       "        text-align: right;\n",
       "    }\n",
       "</style>\n",
       "<table border=\"1\" class=\"dataframe\">\n",
       "  <thead>\n",
       "    <tr style=\"text-align: right;\">\n",
       "      <th></th>\n",
       "      <th>Map</th>\n",
       "      <th>Wins</th>\n",
       "      <th>Winning Side</th>\n",
       "      <th>Winning Percentage</th>\n",
       "      <th>Sidedness</th>\n",
       "    </tr>\n",
       "  </thead>\n",
       "  <tbody>\n",
       "    <tr>\n",
       "      <th>0</th>\n",
       "      <td>de_overpass</td>\n",
       "      <td>12136</td>\n",
       "      <td>CT</td>\n",
       "      <td>51.213234</td>\n",
       "      <td>2.426467</td>\n",
       "    </tr>\n",
       "    <tr>\n",
       "      <th>1</th>\n",
       "      <td>de_overpass</td>\n",
       "      <td>11561</td>\n",
       "      <td>T</td>\n",
       "      <td>48.786766</td>\n",
       "      <td>-2.426467</td>\n",
       "    </tr>\n",
       "    <tr>\n",
       "      <th>2</th>\n",
       "      <td>de_cache</td>\n",
       "      <td>60817</td>\n",
       "      <td>CT</td>\n",
       "      <td>47.504374</td>\n",
       "      <td>-4.991252</td>\n",
       "    </tr>\n",
       "    <tr>\n",
       "      <th>3</th>\n",
       "      <td>de_cache</td>\n",
       "      <td>67207</td>\n",
       "      <td>T</td>\n",
       "      <td>52.495626</td>\n",
       "      <td>4.991252</td>\n",
       "    </tr>\n",
       "    <tr>\n",
       "      <th>4</th>\n",
       "      <td>de_inferno</td>\n",
       "      <td>25034</td>\n",
       "      <td>CT</td>\n",
       "      <td>47.344731</td>\n",
       "      <td>-5.310538</td>\n",
       "    </tr>\n",
       "    <tr>\n",
       "      <th>5</th>\n",
       "      <td>de_inferno</td>\n",
       "      <td>27842</td>\n",
       "      <td>T</td>\n",
       "      <td>52.655269</td>\n",
       "      <td>5.310538</td>\n",
       "    </tr>\n",
       "    <tr>\n",
       "      <th>6</th>\n",
       "      <td>de_mirage</td>\n",
       "      <td>66373</td>\n",
       "      <td>CT</td>\n",
       "      <td>49.956722</td>\n",
       "      <td>-0.086557</td>\n",
       "    </tr>\n",
       "    <tr>\n",
       "      <th>7</th>\n",
       "      <td>de_mirage</td>\n",
       "      <td>66488</td>\n",
       "      <td>T</td>\n",
       "      <td>50.043278</td>\n",
       "      <td>0.086557</td>\n",
       "    </tr>\n",
       "    <tr>\n",
       "      <th>8</th>\n",
       "      <td>de_train</td>\n",
       "      <td>6711</td>\n",
       "      <td>CT</td>\n",
       "      <td>53.245002</td>\n",
       "      <td>6.490003</td>\n",
       "    </tr>\n",
       "    <tr>\n",
       "      <th>9</th>\n",
       "      <td>de_train</td>\n",
       "      <td>5893</td>\n",
       "      <td>T</td>\n",
       "      <td>46.754998</td>\n",
       "      <td>-6.490003</td>\n",
       "    </tr>\n",
       "    <tr>\n",
       "      <th>10</th>\n",
       "      <td>de_dust2</td>\n",
       "      <td>9335</td>\n",
       "      <td>CT</td>\n",
       "      <td>46.155748</td>\n",
       "      <td>-7.688504</td>\n",
       "    </tr>\n",
       "    <tr>\n",
       "      <th>11</th>\n",
       "      <td>de_dust2</td>\n",
       "      <td>10890</td>\n",
       "      <td>T</td>\n",
       "      <td>53.844252</td>\n",
       "      <td>7.688504</td>\n",
       "    </tr>\n",
       "    <tr>\n",
       "      <th>12</th>\n",
       "      <td>de_cbble</td>\n",
       "      <td>2746</td>\n",
       "      <td>CT</td>\n",
       "      <td>47.410221</td>\n",
       "      <td>-5.179558</td>\n",
       "    </tr>\n",
       "    <tr>\n",
       "      <th>13</th>\n",
       "      <td>de_cbble</td>\n",
       "      <td>3046</td>\n",
       "      <td>T</td>\n",
       "      <td>52.589779</td>\n",
       "      <td>5.179558</td>\n",
       "    </tr>\n",
       "    <tr>\n",
       "      <th>14</th>\n",
       "      <td>de_nuke</td>\n",
       "      <td>862</td>\n",
       "      <td>CT</td>\n",
       "      <td>55.648806</td>\n",
       "      <td>11.297611</td>\n",
       "    </tr>\n",
       "    <tr>\n",
       "      <th>15</th>\n",
       "      <td>de_nuke</td>\n",
       "      <td>687</td>\n",
       "      <td>T</td>\n",
       "      <td>44.351194</td>\n",
       "      <td>-11.297611</td>\n",
       "    </tr>\n",
       "  </tbody>\n",
       "</table>\n",
       "</div>"
      ],
      "text/plain": [
       "            Map   Wins Winning Side  Winning Percentage  Sidedness\n",
       "0   de_overpass  12136           CT           51.213234   2.426467\n",
       "1   de_overpass  11561            T           48.786766  -2.426467\n",
       "2      de_cache  60817           CT           47.504374  -4.991252\n",
       "3      de_cache  67207            T           52.495626   4.991252\n",
       "4    de_inferno  25034           CT           47.344731  -5.310538\n",
       "5    de_inferno  27842            T           52.655269   5.310538\n",
       "6     de_mirage  66373           CT           49.956722  -0.086557\n",
       "7     de_mirage  66488            T           50.043278   0.086557\n",
       "8      de_train   6711           CT           53.245002   6.490003\n",
       "9      de_train   5893            T           46.754998  -6.490003\n",
       "10     de_dust2   9335           CT           46.155748  -7.688504\n",
       "11     de_dust2  10890            T           53.844252   7.688504\n",
       "12     de_cbble   2746           CT           47.410221  -5.179558\n",
       "13     de_cbble   3046            T           52.589779   5.179558\n",
       "14      de_nuke    862           CT           55.648806  11.297611\n",
       "15      de_nuke    687            T           44.351194 -11.297611"
      ]
     },
     "execution_count": 62,
     "metadata": {},
     "output_type": "execute_result"
    }
   ],
   "source": [
    "# Define an empty list to hold the data about who won the rounds\n",
    "data_to_add = []\n",
    "\n",
    "# Extract a DataFrame with the relevant information\n",
    "winner = metaData[['map', 'winner_side']]\n",
    "\n",
    "for mapName in metaData['map'].unique():  # Loop through the different maps that are played\n",
    "    # Calculate the number of times Ts and CTs won per map type\n",
    "    tWins = winner[(winner['map'] == mapName) & (winner['winner_side'] == 'Terrorist')].shape[0]\n",
    "    ctWins = winner[(winner['map'] == mapName) & (winner['winner_side'] == 'CounterTerrorist')].shape[0]\n",
    "    \n",
    "    # Calculate total wins\n",
    "    total = tWins + ctWins\n",
    "    \n",
    "    # Avoid division by zero\n",
    "    if total > 0:\n",
    "        ct_percentage = ctWins / total * 100\n",
    "        t_percentage = tWins / total * 100\n",
    "        sidedness_ct = (ctWins - tWins) / total * 100\n",
    "        sidedness_t = (tWins - ctWins) / total * 100\n",
    "    else:\n",
    "        ct_percentage = t_percentage = sidedness_ct = sidedness_t = 0\n",
    "\n",
    "    # Append the data to the list\n",
    "    data_to_add.append({'Map': mapName, 'Wins': ctWins, 'Winning Side': 'CT', \n",
    "                        'Winning Percentage': ct_percentage, 'Sidedness': sidedness_ct})\n",
    "    data_to_add.append({'Map': mapName, 'Wins': tWins, 'Winning Side': 'T', \n",
    "                        'Winning Percentage': t_percentage, 'Sidedness': sidedness_t})\n",
    "\n",
    "# Create a DataFrame from the list\n",
    "wins = pd.DataFrame(data_to_add)\n",
    "\n",
    "# Display the results\n",
    "wins"
   ]
  },
  {
   "cell_type": "markdown",
   "metadata": {
    "papermill": {
     "duration": 0.01833,
     "end_time": "2020-08-31T00:13:25.819366",
     "exception": false,
     "start_time": "2020-08-31T00:13:25.801036",
     "status": "completed"
    },
    "tags": []
   },
   "source": [
    "Plot the results"
   ]
  },
  {
   "cell_type": "code",
   "execution_count": 63,
   "metadata": {
    "execution": {
     "iopub.execute_input": "2020-08-31T00:13:25.876200Z",
     "iopub.status.busy": "2020-08-31T00:13:25.869024Z",
     "iopub.status.idle": "2020-08-31T00:13:26.605416Z",
     "shell.execute_reply": "2020-08-31T00:13:26.604661Z"
    },
    "papermill": {
     "duration": 0.767082,
     "end_time": "2020-08-31T00:13:26.605593",
     "exception": false,
     "start_time": "2020-08-31T00:13:25.838511",
     "status": "completed"
    },
    "tags": []
   },
   "outputs": [
    {
     "name": "stderr",
     "output_type": "stream",
     "text": [
      "C:\\Users\\yoges\\AppData\\Local\\Temp\\ipykernel_13352\\3117106785.py:10: FutureWarning: \n",
      "\n",
      "Passing `palette` without assigning `hue` is deprecated and will be removed in v0.14.0. Assign the `x` variable to `hue` and set `legend=False` for the same effect.\n",
      "\n",
      "  sns.barplot(x='Map', y = 'T-Sidedness', palette = ['sandybrown'], data = filteredWins, ax = ax2)\n",
      "C:\\Users\\yoges\\AppData\\Local\\Temp\\ipykernel_13352\\3117106785.py:10: UserWarning: \n",
      "The palette list has fewer values (1) than needed (8) and will cycle, which may produce an uninterpretable plot.\n",
      "  sns.barplot(x='Map', y = 'T-Sidedness', palette = ['sandybrown'], data = filteredWins, ax = ax2)\n"
     ]
    },
    {
     "data": {
      "text/plain": [
       "<Axes: xlabel='Map', ylabel='T-Sidedness'>"
      ]
     },
     "execution_count": 63,
     "metadata": {},
     "output_type": "execute_result"
    },
    {
     "data": {
      "image/png": "[encoded data removed]",
      "text/plain": [
       "<Figure size 1200x800 with 1 Axes>"
      ]
     },
     "metadata": {},
     "output_type": "display_data"
    },
    {
     "data": {
      "image/png": "[encoded data removed]",
      "text/plain": [
       "<Figure size 1200x800 with 1 Axes>"
      ]
     },
     "metadata": {},
     "output_type": "display_data"
    }
   ],
   "source": [
    "# plot the data from above\n",
    "\n",
    "fig1, ax1 = plt.subplots(figsize=(12,8))\n",
    "sns.set(font_scale = 1.3)\n",
    "sns.barplot(x='Map',y='Winning Percentage',hue='Winning Side',data=wins, ax= ax1)\n",
    "ax1.legend(loc = 7)\n",
    "\n",
    "fig2, ax2 = plt.subplots(figsize=(12,8))\n",
    "filteredWins = wins[wins['Winning Side'] == 'T'][['Map','Sidedness']].rename(columns={'Sidedness':'T-Sidedness'})\n",
    "sns.barplot(x='Map', y = 'T-Sidedness', palette = ['sandybrown'], data = filteredWins, ax = ax2)"
   ]
  },
  {
   "cell_type": "markdown",
   "metadata": {
    "papermill": {
     "duration": 0.018964,
     "end_time": "2020-08-31T00:13:26.644487",
     "exception": false,
     "start_time": "2020-08-31T00:13:26.625523",
     "status": "completed"
    },
    "tags": []
   },
   "source": [
    "The data shows the number of matches won by Ts and CTs respectively. The data shows that the only truly balanced map is Mirage. The most unbalanced is Nuke (which is heavily CT-sded). It should be noted that Nuke was also the least played map and thus the statistic is based on much less data (Nuke was played just 63 times compared to Mirage's 5300)."
   ]
  },
  {
   "cell_type": "markdown",
   "metadata": {
    "papermill": {
     "duration": 0.021398,
     "end_time": "2020-08-31T00:13:26.687008",
     "exception": false,
     "start_time": "2020-08-31T00:13:26.665610",
     "status": "completed"
    },
    "tags": []
   },
   "source": [
    "## Kills Analysis"
   ]
  },
  {
   "cell_type": "code",
   "execution_count": 64,
   "metadata": {
    "execution": {
     "iopub.execute_input": "2020-08-31T00:13:26.742097Z",
     "iopub.status.busy": "2020-08-31T00:13:26.740917Z",
     "iopub.status.idle": "2020-08-31T00:13:33.961698Z",
     "shell.execute_reply": "2020-08-31T00:13:33.960951Z"
    },
    "papermill": {
     "duration": 7.252283,
     "end_time": "2020-08-31T00:13:33.961845",
     "exception": false,
     "start_time": "2020-08-31T00:13:26.709562",
     "status": "completed"
    },
    "tags": []
   },
   "outputs": [],
   "source": [
    "killsData1 = pd.read_csv(r\"C:\\Users\\yoges\\Downloads\\archive (4)\\esea_master_kills_demos.part1.csv\")\n",
    "killsData2 = pd.read_csv(r\"C:\\Users\\yoges\\Downloads\\archive (4)\\esea_master_kills_demos.part2.csv\")\n",
    "killsData = pd.concat([killsData1, killsData2])"
   ]
  },
  {
   "cell_type": "code",
   "execution_count": 65,
   "metadata": {
    "execution": {
     "iopub.execute_input": "2020-08-31T00:13:34.021385Z",
     "iopub.status.busy": "2020-08-31T00:13:34.020315Z",
     "iopub.status.idle": "2020-08-31T00:13:34.025470Z",
     "shell.execute_reply": "2020-08-31T00:13:34.024708Z"
    },
    "papermill": {
     "duration": 0.04482,
     "end_time": "2020-08-31T00:13:34.025616",
     "exception": false,
     "start_time": "2020-08-31T00:13:33.980796",
     "status": "completed"
    },
    "tags": []
   },
   "outputs": [
    {
     "data": {
      "text/html": [
       "<div>\n",
       "<style scoped>\n",
       "    .dataframe tbody tr th:only-of-type {\n",
       "        vertical-align: middle;\n",
       "    }\n",
       "\n",
       "    .dataframe tbody tr th {\n",
       "        vertical-align: top;\n",
       "    }\n",
       "\n",
       "    .dataframe thead th {\n",
       "        text-align: right;\n",
       "    }\n",
       "</style>\n",
       "<table border=\"1\" class=\"dataframe\">\n",
       "  <thead>\n",
       "    <tr style=\"text-align: right;\">\n",
       "      <th></th>\n",
       "      <th>file</th>\n",
       "      <th>round</th>\n",
       "      <th>tick</th>\n",
       "      <th>seconds</th>\n",
       "      <th>att_team</th>\n",
       "      <th>vic_team</th>\n",
       "      <th>att_side</th>\n",
       "      <th>vic_side</th>\n",
       "      <th>wp</th>\n",
       "      <th>wp_type</th>\n",
       "      <th>ct_alive</th>\n",
       "      <th>t_alive</th>\n",
       "      <th>is_bomb_planted</th>\n",
       "    </tr>\n",
       "  </thead>\n",
       "  <tbody>\n",
       "    <tr>\n",
       "      <th>0</th>\n",
       "      <td>esea_match_13770997.dem</td>\n",
       "      <td>1</td>\n",
       "      <td>16058</td>\n",
       "      <td>30.74165</td>\n",
       "      <td>Animal Style</td>\n",
       "      <td>Hentai Hooligans</td>\n",
       "      <td>CounterTerrorist</td>\n",
       "      <td>Terrorist</td>\n",
       "      <td>USP</td>\n",
       "      <td>Pistol</td>\n",
       "      <td>5</td>\n",
       "      <td>4</td>\n",
       "      <td>False</td>\n",
       "    </tr>\n",
       "    <tr>\n",
       "      <th>1</th>\n",
       "      <td>esea_match_13770997.dem</td>\n",
       "      <td>1</td>\n",
       "      <td>16210</td>\n",
       "      <td>31.93185</td>\n",
       "      <td>Hentai Hooligans</td>\n",
       "      <td>Animal Style</td>\n",
       "      <td>Terrorist</td>\n",
       "      <td>CounterTerrorist</td>\n",
       "      <td>Glock</td>\n",
       "      <td>Pistol</td>\n",
       "      <td>4</td>\n",
       "      <td>4</td>\n",
       "      <td>False</td>\n",
       "    </tr>\n",
       "    <tr>\n",
       "      <th>2</th>\n",
       "      <td>esea_match_13770997.dem</td>\n",
       "      <td>1</td>\n",
       "      <td>16510</td>\n",
       "      <td>34.28094</td>\n",
       "      <td>Hentai Hooligans</td>\n",
       "      <td>Animal Style</td>\n",
       "      <td>Terrorist</td>\n",
       "      <td>CounterTerrorist</td>\n",
       "      <td>Glock</td>\n",
       "      <td>Pistol</td>\n",
       "      <td>3</td>\n",
       "      <td>4</td>\n",
       "      <td>False</td>\n",
       "    </tr>\n",
       "    <tr>\n",
       "      <th>3</th>\n",
       "      <td>esea_match_13770997.dem</td>\n",
       "      <td>1</td>\n",
       "      <td>17104</td>\n",
       "      <td>38.93212</td>\n",
       "      <td>Animal Style</td>\n",
       "      <td>Hentai Hooligans</td>\n",
       "      <td>CounterTerrorist</td>\n",
       "      <td>Terrorist</td>\n",
       "      <td>USP</td>\n",
       "      <td>Pistol</td>\n",
       "      <td>3</td>\n",
       "      <td>3</td>\n",
       "      <td>False</td>\n",
       "    </tr>\n",
       "    <tr>\n",
       "      <th>4</th>\n",
       "      <td>esea_match_13770997.dem</td>\n",
       "      <td>1</td>\n",
       "      <td>17338</td>\n",
       "      <td>40.76441</td>\n",
       "      <td>Hentai Hooligans</td>\n",
       "      <td>Animal Style</td>\n",
       "      <td>Terrorist</td>\n",
       "      <td>CounterTerrorist</td>\n",
       "      <td>Glock</td>\n",
       "      <td>Pistol</td>\n",
       "      <td>2</td>\n",
       "      <td>3</td>\n",
       "      <td>False</td>\n",
       "    </tr>\n",
       "  </tbody>\n",
       "</table>\n",
       "</div>"
      ],
      "text/plain": [
       "                      file  round   tick   seconds          att_team  \\\n",
       "0  esea_match_13770997.dem      1  16058  30.74165      Animal Style   \n",
       "1  esea_match_13770997.dem      1  16210  31.93185  Hentai Hooligans   \n",
       "2  esea_match_13770997.dem      1  16510  34.28094  Hentai Hooligans   \n",
       "3  esea_match_13770997.dem      1  17104  38.93212      Animal Style   \n",
       "4  esea_match_13770997.dem      1  17338  40.76441  Hentai Hooligans   \n",
       "\n",
       "           vic_team          att_side          vic_side     wp wp_type  \\\n",
       "0  Hentai Hooligans  CounterTerrorist         Terrorist    USP  Pistol   \n",
       "1      Animal Style         Terrorist  CounterTerrorist  Glock  Pistol   \n",
       "2      Animal Style         Terrorist  CounterTerrorist  Glock  Pistol   \n",
       "3  Hentai Hooligans  CounterTerrorist         Terrorist    USP  Pistol   \n",
       "4      Animal Style         Terrorist  CounterTerrorist  Glock  Pistol   \n",
       "\n",
       "   ct_alive  t_alive  is_bomb_planted  \n",
       "0         5        4            False  \n",
       "1         4        4            False  \n",
       "2         3        4            False  \n",
       "3         3        3            False  \n",
       "4         2        3            False  "
      ]
     },
     "execution_count": 65,
     "metadata": {},
     "output_type": "execute_result"
    }
   ],
   "source": [
    "killsData.head()"
   ]
  },
  {
   "cell_type": "code",
   "execution_count": 67,
   "metadata": {
    "execution": {
     "iopub.execute_input": "2020-08-31T00:13:34.077386Z",
     "iopub.status.busy": "2020-08-31T00:13:34.076499Z",
     "iopub.status.idle": "2020-08-31T00:13:39.101765Z",
     "shell.execute_reply": "2020-08-31T00:13:39.102415Z"
    },
    "papermill": {
     "duration": 5.057902,
     "end_time": "2020-08-31T00:13:39.102594",
     "exception": false,
     "start_time": "2020-08-31T00:13:34.044692",
     "status": "completed"
    },
    "tags": []
   },
   "outputs": [
    {
     "name": "stderr",
     "output_type": "stream",
     "text": [
      "C:\\Users\\yoges\\AppData\\Local\\Temp\\ipykernel_13352\\767951182.py:10: FutureWarning: \n",
      "\n",
      "Passing `palette` without assigning `hue` is deprecated and will be removed in v0.14.0. Assign the `x` variable to `hue` and set `legend=False` for the same effect.\n",
      "\n",
      "  sns.barplot(x='Weapon', y='Kills', data=dataToPlot, ax = axs[ax_num], palette=palette)\n",
      "C:\\Users\\yoges\\AppData\\Local\\Temp\\ipykernel_13352\\767951182.py:10: UserWarning: The palette list has more values (5) than needed (2), which may not be intended.\n",
      "  sns.barplot(x='Weapon', y='Kills', data=dataToPlot, ax = axs[ax_num], palette=palette)\n",
      "C:\\Users\\yoges\\AppData\\Local\\Temp\\ipykernel_13352\\767951182.py:10: FutureWarning: \n",
      "\n",
      "Passing `palette` without assigning `hue` is deprecated and will be removed in v0.14.0. Assign the `x` variable to `hue` and set `legend=False` for the same effect.\n",
      "\n",
      "  sns.barplot(x='Weapon', y='Kills', data=dataToPlot, ax = axs[ax_num], palette=palette)\n",
      "C:\\Users\\yoges\\AppData\\Local\\Temp\\ipykernel_13352\\767951182.py:10: UserWarning: \n",
      "The palette list has fewer values (5) than needed (6) and will cycle, which may produce an uninterpretable plot.\n",
      "  sns.barplot(x='Weapon', y='Kills', data=dataToPlot, ax = axs[ax_num], palette=palette)\n",
      "C:\\Users\\yoges\\AppData\\Local\\Temp\\ipykernel_13352\\767951182.py:10: FutureWarning: \n",
      "\n",
      "Passing `palette` without assigning `hue` is deprecated and will be removed in v0.14.0. Assign the `x` variable to `hue` and set `legend=False` for the same effect.\n",
      "\n",
      "  sns.barplot(x='Weapon', y='Kills', data=dataToPlot, ax = axs[ax_num], palette=palette)\n",
      "C:\\Users\\yoges\\AppData\\Local\\Temp\\ipykernel_13352\\767951182.py:10: UserWarning: \n",
      "The palette list has fewer values (5) than needed (6) and will cycle, which may produce an uninterpretable plot.\n",
      "  sns.barplot(x='Weapon', y='Kills', data=dataToPlot, ax = axs[ax_num], palette=palette)\n",
      "C:\\Users\\yoges\\AppData\\Local\\Temp\\ipykernel_13352\\767951182.py:10: FutureWarning: \n",
      "\n",
      "Passing `palette` without assigning `hue` is deprecated and will be removed in v0.14.0. Assign the `x` variable to `hue` and set `legend=False` for the same effect.\n",
      "\n",
      "  sns.barplot(x='Weapon', y='Kills', data=dataToPlot, ax = axs[ax_num], palette=palette)\n",
      "C:\\Users\\yoges\\AppData\\Local\\Temp\\ipykernel_13352\\767951182.py:10: UserWarning: \n",
      "The palette list has fewer values (5) than needed (10) and will cycle, which may produce an uninterpretable plot.\n",
      "  sns.barplot(x='Weapon', y='Kills', data=dataToPlot, ax = axs[ax_num], palette=palette)\n",
      "C:\\Users\\yoges\\AppData\\Local\\Temp\\ipykernel_13352\\767951182.py:10: FutureWarning: \n",
      "\n",
      "Passing `palette` without assigning `hue` is deprecated and will be removed in v0.14.0. Assign the `x` variable to `hue` and set `legend=False` for the same effect.\n",
      "\n",
      "  sns.barplot(x='Weapon', y='Kills', data=dataToPlot, ax = axs[ax_num], palette=palette)\n",
      "C:\\Users\\yoges\\AppData\\Local\\Temp\\ipykernel_13352\\767951182.py:10: UserWarning: \n",
      "The palette list has fewer values (5) than needed (7) and will cycle, which may produce an uninterpretable plot.\n",
      "  sns.barplot(x='Weapon', y='Kills', data=dataToPlot, ax = axs[ax_num], palette=palette)\n",
      "C:\\Users\\yoges\\AppData\\Local\\Temp\\ipykernel_13352\\767951182.py:10: FutureWarning: \n",
      "\n",
      "Passing `palette` without assigning `hue` is deprecated and will be removed in v0.14.0. Assign the `x` variable to `hue` and set `legend=False` for the same effect.\n",
      "\n",
      "  sns.barplot(x='Weapon', y='Kills', data=dataToPlot, ax = axs[ax_num], palette=palette)\n",
      "C:\\Users\\yoges\\AppData\\Local\\Temp\\ipykernel_13352\\767951182.py:10: UserWarning: \n",
      "The palette list has fewer values (5) than needed (6) and will cycle, which may produce an uninterpretable plot.\n",
      "  sns.barplot(x='Weapon', y='Kills', data=dataToPlot, ax = axs[ax_num], palette=palette)\n",
      "C:\\Users\\yoges\\AppData\\Local\\Temp\\ipykernel_13352\\767951182.py:10: FutureWarning: \n",
      "\n",
      "Passing `palette` without assigning `hue` is deprecated and will be removed in v0.14.0. Assign the `x` variable to `hue` and set `legend=False` for the same effect.\n",
      "\n",
      "  sns.barplot(x='Weapon', y='Kills', data=dataToPlot, ax = axs[ax_num], palette=palette)\n",
      "C:\\Users\\yoges\\AppData\\Local\\Temp\\ipykernel_13352\\767951182.py:10: UserWarning: The palette list has more values (5) than needed (4), which may not be intended.\n",
      "  sns.barplot(x='Weapon', y='Kills', data=dataToPlot, ax = axs[ax_num], palette=palette)\n",
      "C:\\Users\\yoges\\AppData\\Local\\Temp\\ipykernel_13352\\767951182.py:10: FutureWarning: \n",
      "\n",
      "Passing `palette` without assigning `hue` is deprecated and will be removed in v0.14.0. Assign the `x` variable to `hue` and set `legend=False` for the same effect.\n",
      "\n",
      "  sns.barplot(x='Weapon', y='Kills', data=dataToPlot, ax = axs[ax_num], palette=palette)\n",
      "C:\\Users\\yoges\\AppData\\Local\\Temp\\ipykernel_13352\\767951182.py:10: UserWarning: The palette list has more values (5) than needed (1), which may not be intended.\n",
      "  sns.barplot(x='Weapon', y='Kills', data=dataToPlot, ax = axs[ax_num], palette=palette)\n"
     ]
    },
    {
     "data": {
      "image/png": "[encoded data removed]",
      "text/plain": [
       "<Figure size 1500x2500 with 8 Axes>"
      ]
     },
     "metadata": {},
     "output_type": "display_data"
    }
   ],
   "source": [
    "# extract the data related to the weapons used on each kill\n",
    "weaponData = killsData.groupby(['wp_type','wp']).count().reset_index()[['wp_type','wp','file']]\n",
    "weaponData = weaponData.rename(columns = {'wp_type':'Weapon Type', 'wp':'Weapon', 'file':'Kills'})\n",
    "\n",
    "# create a subplot for each weapon type\n",
    "fig, axs = plt.subplots(ncols=1, nrows=8, figsize = (15,25)) # create 8 subplots\n",
    "for ax_num in range(len(axs)): # loop through the subplots and plot the relavent data\n",
    "    weaponType = weaponData['Weapon Type'].unique()[ax_num]\n",
    "    dataToPlot = weaponData[weaponData['Weapon Type']==weaponType]\n",
    "    sns.barplot(x='Weapon', y='Kills', data=dataToPlot, ax = axs[ax_num], palette=palette)"
   ]
  },
  {
   "cell_type": "markdown",
   "metadata": {
    "papermill": {
     "duration": 0.021424,
     "end_time": "2020-08-31T00:13:39.146103",
     "exception": false,
     "start_time": "2020-08-31T00:13:39.124679",
     "status": "completed"
    },
    "tags": []
   },
   "source": [
    "The data above shows the weapons used to kill other players. The sniper and rifle weapon types are dominated by the AWP and AK47 repsectively (as was expected based on experience).\n",
    "\n",
    "I believe some of the data is erroneous. For example, 12000 players were killed using incendiaries versus 5 with molotovs (the T equivalent). Further inspection shows that many of these incendiary kills were done by Ts, many on other Ts, which is unlikely. It seems also that the number of players killed by the bomb is relatively low (given I would think it should be death by \"world\"). I believe that players killed by the bomb where logged as being killed by an incendiary, and by the bomb planter (explaining the high number of team-kills).\n",
    "\n",
    "1 person was killed with a decoy, 7 with smoke grenades, and 10 with flashbangs. This isn't very relavent but is kind of funny, poor guys got bonked with tactical grenades.\n",
    "\n",
    "Feel free to look at the source dataframe to see exactly how many kills each weapon got."
   ]
  },
  {
   "cell_type": "markdown",
   "metadata": {
    "papermill": {
     "duration": 0.020008,
     "end_time": "2020-08-31T00:13:39.186839",
     "exception": false,
     "start_time": "2020-08-31T00:13:39.166831",
     "status": "completed"
    },
    "tags": []
   },
   "source": [
    "## Machine Learning to Predict Round Outcome"
   ]
  },
  {
   "cell_type": "markdown",
   "metadata": {
    "papermill": {
     "duration": 0.021983,
     "end_time": "2020-08-31T00:13:39.230699",
     "exception": false,
     "start_time": "2020-08-31T00:13:39.208716",
     "status": "completed"
    },
    "tags": []
   },
   "source": [
    "In this section I will attempt to use the Scikit-learn library to create a number of supervised machine learning models to predict the outcome of individual rounds. I have attempted to use a neural network (Scikit) as they excel at big data streams like this one. I am currently learning to use PyTorch and may come back to apply what I learn using a PyTorch NN."
   ]
  },
  {
   "cell_type": "markdown",
   "metadata": {
    "papermill": {
     "duration": 0.021011,
     "end_time": "2020-08-31T00:13:39.272711",
     "exception": false,
     "start_time": "2020-08-31T00:13:39.251700",
     "status": "completed"
    },
    "tags": []
   },
   "source": [
    "The machine will take into account the following features:\n",
    "- The T and CT economy (how much equipment they buy)\n",
    "- The map\n",
    "- Who won the previous round\n",
    "- What round number it is\n",
    "- How many players were alive at the end of last round\n",
    "- Whether it is the first round\n",
    "- Whether the bomb was planted last round\n",
    "\n",
    "The different models that will be tested are:\n",
    "- SVM\n",
    "- K nearest neighbours\n",
    "- Random forest classifier\n",
    "- Multi-Layered Perceptron\n",
    "\n",
    "Feel free to take this code and edit the classifier parameters as you please to try and get a better score!"
   ]
  },
  {
   "cell_type": "code",
   "execution_count": 20,
   "metadata": {
    "execution": {
     "iopub.execute_input": "2020-08-31T00:13:39.366042Z",
     "iopub.status.busy": "2020-08-31T00:13:39.343659Z",
     "iopub.status.idle": "2020-08-31T00:13:42.894786Z",
     "shell.execute_reply": "2020-08-31T00:13:42.893899Z"
    },
    "papermill": {
     "duration": 3.599635,
     "end_time": "2020-08-31T00:13:42.894950",
     "exception": false,
     "start_time": "2020-08-31T00:13:39.295315",
     "status": "completed"
    },
    "scrolled": true,
    "tags": []
   },
   "outputs": [],
   "source": [
    "# extracting all the raw columns that don't need additional processing\n",
    "dataProcessing1 = metaData[['round','ct_eq_val','t_eq_val']]\n",
    "\n",
    "# converting the map data into a binary input for each map so it can be processed by the machine\n",
    "maps = metaData['map'].unique() # order: overpass, cache, inferno, muirage, train, dust2, cobble, nuke\n",
    "mapsBin = pd.DataFrame()\n",
    "for mapp in maps:\n",
    "    mapsBin[mapp] = metaData['map'].apply(lambda x: 1 if x == mapp else 0)\n",
    "    \n",
    "# creating the binary column with who won the previous round\n",
    "# first create a series with a single value (to shift the series down)\n",
    "s = pd.Series([0])\n",
    "# creating a series with 1 if the it is not the first round and 0 if it is\n",
    "isNotFirstRound = metaData['round'].apply(lambda x: 0 if x == 1 else 1).rename('isNotFirstRound').reset_index(drop=True)\n",
    "# append the series from above, shifting the series down (now when the series are put together match up with the previous\n",
    "#   match)\n",
    "shiftedWinnerSide = s.append(metaData['winner_side'])\n",
    "# create the two series with the binary output whether Ts or CTs won (cutting off the last row as it not meaningful)\n",
    "tWinPrev = shiftedWinnerSide.apply(lambda x: 1 if x=='Terrorist' else 0).iloc[:-1]\n",
    "ctWinPrev = shiftedWinnerSide.apply(lambda x: 1 if x=='CounterTerrorist' else 0).iloc[:-1]\n",
    "# resetting the index for the next part\n",
    "tWinPrev = tWinPrev.reset_index(drop=True)\n",
    "ctWinPrev = ctWinPrev.reset_index(drop=True)\n",
    "# multiply each series by the \"isNotFirstRound\" from above. This ensures that on pistol round nobody has won previously,\n",
    "#    without this first rounds would have a previous winner and the machine may attempt to find a pattern in that\n",
    "tWinPrev = (tWinPrev * isNotFirstRound).rename('tWinPrev')\n",
    "ctWinPrev = (ctWinPrev * isNotFirstRound).rename('tWinPrev')\n",
    "# combine the two series into a single dataframe\n",
    "prevWinDF = pd.concat([tWinPrev,ctWinPrev], axis = 1)\n",
    "\n",
    "# convert the round winner to a binary number. This is the data the machine will attempt to predict\n",
    "dataToPredict = metaData['winner_side'].apply(lambda x: 1 if x=='Terrorist' else 0)"
   ]
  },
  {
   "cell_type": "code",
   "execution_count": 21,
   "metadata": {
    "execution": {
     "iopub.execute_input": "2020-08-31T00:13:42.944454Z",
     "iopub.status.busy": "2020-08-31T00:13:42.943527Z",
     "iopub.status.idle": "2020-08-31T00:13:43.074143Z",
     "shell.execute_reply": "2020-08-31T00:13:43.072908Z"
    },
    "papermill": {
     "duration": 0.158994,
     "end_time": "2020-08-31T00:13:43.074346",
     "exception": false,
     "start_time": "2020-08-31T00:13:42.915352",
     "status": "completed"
    },
    "tags": []
   },
   "outputs": [
    {
     "name": "stdout",
     "output_type": "stream",
     "text": [
      "Feature list:\n"
     ]
    },
    {
     "data": {
      "text/plain": [
       "Index(['round', 'ct_eq_val', 't_eq_val', 'de_overpass', 'de_cache',\n",
       "       'de_inferno', 'de_mirage', 'de_train', 'de_dust2', 'de_cbble',\n",
       "       'de_nuke', 'tWinPrev', 'tWinPrev', 'winner_side'],\n",
       "      dtype='object')"
      ]
     },
     "execution_count": 21,
     "metadata": {},
     "output_type": "execute_result"
    }
   ],
   "source": [
    "# creating a list of the different data categories we will use, you can add and remove these as you please\n",
    "processedCols = [dataProcessing1, mapsBin, tWinPrev, ctWinPrev, dataToPredict]\n",
    "# concatenate them into a single dataframe\n",
    "processedData = pd.concat(processedCols, axis = 'columns', join = 'inner')\n",
    "# take a peek at the feature list\n",
    "print('Feature list:')\n",
    "processedData.columns"
   ]
  },
  {
   "cell_type": "code",
   "execution_count": 22,
   "metadata": {
    "execution": {
     "iopub.execute_input": "2020-08-31T00:13:43.124600Z",
     "iopub.status.busy": "2020-08-31T00:13:43.123731Z",
     "iopub.status.idle": "2020-08-31T00:13:43.548944Z",
     "shell.execute_reply": "2020-08-31T00:13:43.548014Z"
    },
    "papermill": {
     "duration": 0.453087,
     "end_time": "2020-08-31T00:13:43.549108",
     "exception": false,
     "start_time": "2020-08-31T00:13:43.096021",
     "status": "completed"
    },
    "tags": []
   },
   "outputs": [],
   "source": [
    "from sklearn.preprocessing import StandardScaler\n",
    "from sklearn.neural_network import MLPClassifier\n",
    "from sklearn.neighbors import KNeighborsClassifier\n",
    "from sklearn.ensemble import RandomForestClassifier\n",
    "from sklearn.model_selection import train_test_split\n",
    "from sklearn.metrics import classification_report, f1_score, confusion_matrix"
   ]
  },
  {
   "cell_type": "code",
   "execution_count": 23,
   "metadata": {
    "execution": {
     "iopub.execute_input": "2020-08-31T00:13:43.606733Z",
     "iopub.status.busy": "2020-08-31T00:13:43.604966Z",
     "iopub.status.idle": "2020-08-31T00:13:43.670176Z",
     "shell.execute_reply": "2020-08-31T00:13:43.669458Z"
    },
    "papermill": {
     "duration": 0.097674,
     "end_time": "2020-08-31T00:13:43.670327",
     "exception": false,
     "start_time": "2020-08-31T00:13:43.572653",
     "status": "completed"
    },
    "tags": []
   },
   "outputs": [],
   "source": [
    "# separtate the data into X and y sets. The datasets are shortened to cut down on processing time! Feel free to crank the set size up or down depending\n",
    "# on your resources. You can change this and then run an individual classifier.\n",
    "subset_size = 5000\n",
    "X = processedData.drop('winner_side', axis = 1)[:subset_size]\n",
    "y = processedData['winner_side'][:subset_size]\n",
    "# split them into testing and training sets\n",
    "X_train, X_test, y_train, y_test = train_test_split(X, y, random_state = 42)\n",
    "\n",
    "# scale the data\n",
    "ss = StandardScaler()\n",
    "X_train = ss.fit_transform(X_train)\n",
    "X_test = ss.transform(X_test)"
   ]
  },
  {
   "cell_type": "markdown",
   "metadata": {
    "papermill": {
     "duration": 0.020458,
     "end_time": "2020-08-31T00:13:43.711915",
     "exception": false,
     "start_time": "2020-08-31T00:13:43.691457",
     "status": "completed"
    },
    "tags": []
   },
   "source": [
    "### K-Nearest Neighbours Classifier"
   ]
  },
  {
   "cell_type": "code",
   "execution_count": 24,
   "metadata": {
    "execution": {
     "iopub.execute_input": "2020-08-31T00:13:43.765983Z",
     "iopub.status.busy": "2020-08-31T00:13:43.763532Z",
     "iopub.status.idle": "2020-08-31T00:14:00.511748Z",
     "shell.execute_reply": "2020-08-31T00:14:00.512614Z"
    },
    "papermill": {
     "duration": 16.780042,
     "end_time": "2020-08-31T00:14:00.512852",
     "exception": false,
     "start_time": "2020-08-31T00:13:43.732810",
     "status": "completed"
    },
    "tags": []
   },
   "outputs": [
    {
     "name": "stdout",
     "output_type": "stream",
     "text": [
      "Optimal K-value: 67\n",
      "[[413 224]\n",
      " [179 434]]\n",
      "              precision    recall  f1-score   support\n",
      "\n",
      "           0       0.70      0.65      0.67       637\n",
      "           1       0.66      0.71      0.68       613\n",
      "\n",
      "    accuracy                           0.68      1250\n",
      "   macro avg       0.68      0.68      0.68      1250\n",
      "weighted avg       0.68      0.68      0.68      1250\n",
      "\n"
     ]
    }
   ],
   "source": [
    "# instantiate lists to hold the values\n",
    "Ks = []\n",
    "Kscores = []\n",
    "# loop through different K values, testing each one, to find the optimal one\n",
    "for K in range(15,100):\n",
    "    kClassifier = KNeighborsClassifier(n_neighbors=K)\n",
    "    kClassifier.fit(X_train, y_train)\n",
    "    y_pred = kClassifier.predict(X_test)\n",
    "    Kscores.append(f1_score(y_test, y_pred))\n",
    "    Ks.append(K)\n",
    "\n",
    "# extract and print the best K value\n",
    "bestK = Ks[Kscores.index(max(Kscores))]\n",
    "print(f'Optimal K-value: {bestK}')\n",
    "\n",
    "kClassifier = KNeighborsClassifier(n_neighbors=bestK)\n",
    "kClassifier.fit(X_train, y_train)\n",
    "y_pred = kClassifier.predict(X_test)\n",
    "print(confusion_matrix(y_test, y_pred))\n",
    "print(classification_report(y_test, y_pred))"
   ]
  },
  {
   "cell_type": "markdown",
   "metadata": {
    "papermill": {
     "duration": 0.021149,
     "end_time": "2020-08-31T00:14:00.556864",
     "exception": false,
     "start_time": "2020-08-31T00:14:00.535715",
     "status": "completed"
    },
    "tags": []
   },
   "source": [
    "### SVM Classifier"
   ]
  },
  {
   "cell_type": "code",
   "execution_count": 25,
   "metadata": {
    "execution": {
     "iopub.execute_input": "2020-08-31T00:14:00.616004Z",
     "iopub.status.busy": "2020-08-31T00:14:00.615134Z",
     "iopub.status.idle": "2020-08-31T00:14:00.735090Z",
     "shell.execute_reply": "2020-08-31T00:14:00.734318Z"
    },
    "papermill": {
     "duration": 0.155725,
     "end_time": "2020-08-31T00:14:00.735237",
     "exception": false,
     "start_time": "2020-08-31T00:14:00.579512",
     "status": "completed"
    },
    "tags": []
   },
   "outputs": [
    {
     "ename": "ValueError",
     "evalue": "C <= 0",
     "output_type": "error",
     "traceback": [
      "\u001b[0;31m---------------------------------------------------------------------------\u001b[0m",
      "\u001b[0;31mValueError\u001b[0m                                Traceback (most recent call last)",
      "\u001b[0;32m<ipython-input-25-7a1a473914a0>\u001b[0m in \u001b[0;36m<module>\u001b[0;34m\u001b[0m\n\u001b[1;32m     10\u001b[0m     \u001b[0;32mfor\u001b[0m \u001b[0mgamma\u001b[0m \u001b[0;32min\u001b[0m \u001b[0mnp\u001b[0m\u001b[0;34m.\u001b[0m\u001b[0mlinspace\u001b[0m\u001b[0;34m(\u001b[0m\u001b[0;36m0.01\u001b[0m\u001b[0;34m,\u001b[0m \u001b[0;36m1\u001b[0m\u001b[0;34m,\u001b[0m \u001b[0;36m20\u001b[0m\u001b[0;34m)\u001b[0m\u001b[0;34m:\u001b[0m\u001b[0;34m\u001b[0m\u001b[0;34m\u001b[0m\u001b[0m\n\u001b[1;32m     11\u001b[0m         \u001b[0mSVM\u001b[0m \u001b[0;34m=\u001b[0m \u001b[0mSVC\u001b[0m\u001b[0;34m(\u001b[0m\u001b[0mC\u001b[0m \u001b[0;34m=\u001b[0m \u001b[0mC\u001b[0m\u001b[0;34m,\u001b[0m \u001b[0mgamma\u001b[0m \u001b[0;34m=\u001b[0m \u001b[0mgamma\u001b[0m\u001b[0;34m)\u001b[0m\u001b[0;34m\u001b[0m\u001b[0;34m\u001b[0m\u001b[0m\n\u001b[0;32m---> 12\u001b[0;31m         \u001b[0mSVM\u001b[0m\u001b[0;34m.\u001b[0m\u001b[0mfit\u001b[0m\u001b[0;34m(\u001b[0m\u001b[0mX_train\u001b[0m\u001b[0;34m,\u001b[0m \u001b[0my_train\u001b[0m\u001b[0;34m)\u001b[0m\u001b[0;34m\u001b[0m\u001b[0;34m\u001b[0m\u001b[0m\n\u001b[0m\u001b[1;32m     13\u001b[0m         \u001b[0mscore\u001b[0m \u001b[0;34m=\u001b[0m \u001b[0mSVM\u001b[0m\u001b[0;34m.\u001b[0m\u001b[0mscore\u001b[0m\u001b[0;34m(\u001b[0m\u001b[0mX_test\u001b[0m\u001b[0;34m,\u001b[0m \u001b[0my_test\u001b[0m\u001b[0;34m)\u001b[0m\u001b[0;34m\u001b[0m\u001b[0;34m\u001b[0m\u001b[0m\n\u001b[1;32m     14\u001b[0m         \u001b[0msvmScores\u001b[0m\u001b[0;34m.\u001b[0m\u001b[0mappend\u001b[0m\u001b[0;34m(\u001b[0m\u001b[0mscore\u001b[0m\u001b[0;34m)\u001b[0m\u001b[0;34m\u001b[0m\u001b[0;34m\u001b[0m\u001b[0m\n",
      "\u001b[0;32m/opt/conda/lib/python3.7/site-packages/sklearn/svm/_base.py\u001b[0m in \u001b[0;36mfit\u001b[0;34m(self, X, y, sample_weight)\u001b[0m\n\u001b[1;32m    215\u001b[0m \u001b[0;34m\u001b[0m\u001b[0m\n\u001b[1;32m    216\u001b[0m         \u001b[0mseed\u001b[0m \u001b[0;34m=\u001b[0m \u001b[0mrnd\u001b[0m\u001b[0;34m.\u001b[0m\u001b[0mrandint\u001b[0m\u001b[0;34m(\u001b[0m\u001b[0mnp\u001b[0m\u001b[0;34m.\u001b[0m\u001b[0miinfo\u001b[0m\u001b[0;34m(\u001b[0m\u001b[0;34m'i'\u001b[0m\u001b[0;34m)\u001b[0m\u001b[0;34m.\u001b[0m\u001b[0mmax\u001b[0m\u001b[0;34m)\u001b[0m\u001b[0;34m\u001b[0m\u001b[0;34m\u001b[0m\u001b[0m\n\u001b[0;32m--> 217\u001b[0;31m         \u001b[0mfit\u001b[0m\u001b[0;34m(\u001b[0m\u001b[0mX\u001b[0m\u001b[0;34m,\u001b[0m \u001b[0my\u001b[0m\u001b[0;34m,\u001b[0m \u001b[0msample_weight\u001b[0m\u001b[0;34m,\u001b[0m \u001b[0msolver_type\u001b[0m\u001b[0;34m,\u001b[0m \u001b[0mkernel\u001b[0m\u001b[0;34m,\u001b[0m \u001b[0mrandom_seed\u001b[0m\u001b[0;34m=\u001b[0m\u001b[0mseed\u001b[0m\u001b[0;34m)\u001b[0m\u001b[0;34m\u001b[0m\u001b[0;34m\u001b[0m\u001b[0m\n\u001b[0m\u001b[1;32m    218\u001b[0m         \u001b[0;31m# see comment on the other call to np.iinfo in this file\u001b[0m\u001b[0;34m\u001b[0m\u001b[0;34m\u001b[0m\u001b[0;34m\u001b[0m\u001b[0m\n\u001b[1;32m    219\u001b[0m \u001b[0;34m\u001b[0m\u001b[0m\n",
      "\u001b[0;32m/opt/conda/lib/python3.7/site-packages/sklearn/svm/_base.py\u001b[0m in \u001b[0;36m_dense_fit\u001b[0;34m(self, X, y, sample_weight, solver_type, kernel, random_seed)\u001b[0m\n\u001b[1;32m    274\u001b[0m                 \u001b[0mcache_size\u001b[0m\u001b[0;34m=\u001b[0m\u001b[0mself\u001b[0m\u001b[0;34m.\u001b[0m\u001b[0mcache_size\u001b[0m\u001b[0;34m,\u001b[0m \u001b[0mcoef0\u001b[0m\u001b[0;34m=\u001b[0m\u001b[0mself\u001b[0m\u001b[0;34m.\u001b[0m\u001b[0mcoef0\u001b[0m\u001b[0;34m,\u001b[0m\u001b[0;34m\u001b[0m\u001b[0;34m\u001b[0m\u001b[0m\n\u001b[1;32m    275\u001b[0m                 \u001b[0mgamma\u001b[0m\u001b[0;34m=\u001b[0m\u001b[0mself\u001b[0m\u001b[0;34m.\u001b[0m\u001b[0m_gamma\u001b[0m\u001b[0;34m,\u001b[0m \u001b[0mepsilon\u001b[0m\u001b[0;34m=\u001b[0m\u001b[0mself\u001b[0m\u001b[0;34m.\u001b[0m\u001b[0mepsilon\u001b[0m\u001b[0;34m,\u001b[0m\u001b[0;34m\u001b[0m\u001b[0;34m\u001b[0m\u001b[0m\n\u001b[0;32m--> 276\u001b[0;31m                 max_iter=self.max_iter, random_seed=random_seed)\n\u001b[0m\u001b[1;32m    277\u001b[0m \u001b[0;34m\u001b[0m\u001b[0m\n\u001b[1;32m    278\u001b[0m         \u001b[0mself\u001b[0m\u001b[0;34m.\u001b[0m\u001b[0m_warn_from_fit_status\u001b[0m\u001b[0;34m(\u001b[0m\u001b[0;34m)\u001b[0m\u001b[0;34m\u001b[0m\u001b[0;34m\u001b[0m\u001b[0m\n",
      "\u001b[0;32msklearn/svm/_libsvm.pyx\u001b[0m in \u001b[0;36msklearn.svm._libsvm.fit\u001b[0;34m()\u001b[0m\n",
      "\u001b[0;31mValueError\u001b[0m: C <= 0"
     ]
    }
   ],
   "source": [
    "from sklearn.svm import SVC\n",
    "\n",
    "# instantiate hyper variable and scores lists\n",
    "gammas = []\n",
    "Cs = []\n",
    "svmScores = []\n",
    "\n",
    "# loop through the data, changing gamma and C to find an optimal value. This takes a while depending on the number of cases you test so be careful.\n",
    "for C in np.linspace(0, 10, 20):\n",
    "    for gamma in np.linspace(0.01, 1, 20):\n",
    "        SVM = SVC(C = C, gamma = gamma)\n",
    "        SVM.fit(X_train, y_train)\n",
    "        score = SVM.score(X_test, y_test)\n",
    "        svmScores.append(score)\n",
    "        gammas.append(gamma)\n",
    "        Cs.append(C)\n",
    "        \n",
    "# extract the best C and gamma values\n",
    "index = svmScores.index(max(svmScores))\n",
    "bestC = Cs[index]\n",
    "bestGamma = gammas[index]\n",
    "\n",
    "print(f'Best C value: {bestC}')\n",
    "print(f'Best gamma value: {bestGamma}')\n",
    "\n",
    "SVM = SVC(C=bestC, gamma=bestGamma)\n",
    "SVM.fit(X_train, y_train)\n",
    "y_pred = SVM.predict(X_test)\n",
    "print(confusion_matrix(y_test, y_pred))\n",
    "print(classification_report(y_test, y_pred))"
   ]
  },
  {
   "cell_type": "markdown",
   "metadata": {
    "papermill": {
     "duration": 0.02182,
     "end_time": "2020-08-31T00:14:00.778651",
     "exception": false,
     "start_time": "2020-08-31T00:14:00.756831",
     "status": "completed"
    },
    "tags": []
   },
   "source": [
    "### Random Forest Classifier"
   ]
  },
  {
   "cell_type": "code",
   "execution_count": 26,
   "metadata": {
    "execution": {
     "iopub.execute_input": "2020-08-31T00:14:00.835102Z",
     "iopub.status.busy": "2020-08-31T00:14:00.833986Z",
     "iopub.status.idle": "2020-08-31T00:14:17.041242Z",
     "shell.execute_reply": "2020-08-31T00:14:17.042293Z"
    },
    "papermill": {
     "duration": 16.241527,
     "end_time": "2020-08-31T00:14:17.042622",
     "exception": false,
     "start_time": "2020-08-31T00:14:00.801095",
     "status": "completed"
    },
    "tags": []
   },
   "outputs": [
    {
     "name": "stdout",
     "output_type": "stream",
     "text": [
      "Best depth setting: 6\n",
      "[[431 206]\n",
      " [206 407]]\n",
      "              precision    recall  f1-score   support\n",
      "\n",
      "           0       0.68      0.68      0.68       637\n",
      "           1       0.66      0.66      0.66       613\n",
      "\n",
      "    accuracy                           0.67      1250\n",
      "   macro avg       0.67      0.67      0.67      1250\n",
      "weighted avg       0.67      0.67      0.67      1250\n",
      "\n"
     ]
    }
   ],
   "source": [
    "depths = []\n",
    "RFCscores = []\n",
    "for depth in range(2, 16):\n",
    "    forest = RandomForestClassifier(n_estimators=200, max_depth=depth, random_state=42)\n",
    "    forest.fit(X_train, y_train)\n",
    "    y_pred = forest.predict(X_test)\n",
    "    depths.append(depth)\n",
    "    RFCscores.append(f1_score(y_test, y_pred))\n",
    "    #print(confusion_matrix(y_test, y_pred))\n",
    "    #print(classification_report(y_test, y_pred))\n",
    "    \n",
    "bestDepth = depths[RFCscores.index(max(RFCscores))]\n",
    "print(f'Best depth setting: {bestDepth}')\n",
    "\n",
    "forest = RandomForestClassifier(n_estimators=500, max_depth=bestDepth, random_state=42)\n",
    "forest.fit(X_train, y_train)\n",
    "y_pred = forest.predict(X_test)\n",
    "print(confusion_matrix(y_test, y_pred))\n",
    "print(classification_report(y_test, y_pred))"
   ]
  },
  {
   "cell_type": "markdown",
   "metadata": {
    "papermill": {
     "duration": 0.022275,
     "end_time": "2020-08-31T00:14:17.156997",
     "exception": false,
     "start_time": "2020-08-31T00:14:17.134722",
     "status": "completed"
    },
    "tags": []
   },
   "source": [
    "### Multi-Layered Perceptron Classifier"
   ]
  },
  {
   "cell_type": "code",
   "execution_count": 27,
   "metadata": {
    "execution": {
     "iopub.execute_input": "2020-08-31T00:14:17.210946Z",
     "iopub.status.busy": "2020-08-31T00:14:17.210081Z",
     "iopub.status.idle": "2020-08-31T00:14:18.979354Z",
     "shell.execute_reply": "2020-08-31T00:14:18.978711Z"
    },
    "papermill": {
     "duration": 1.800365,
     "end_time": "2020-08-31T00:14:18.979542",
     "exception": false,
     "start_time": "2020-08-31T00:14:17.179177",
     "status": "completed"
    },
    "tags": []
   },
   "outputs": [
    {
     "name": "stdout",
     "output_type": "stream",
     "text": [
      "[[428 209]\n",
      " [216 397]]\n",
      "              precision    recall  f1-score   support\n",
      "\n",
      "           0       0.66      0.67      0.67       637\n",
      "           1       0.66      0.65      0.65       613\n",
      "\n",
      "    accuracy                           0.66      1250\n",
      "   macro avg       0.66      0.66      0.66      1250\n",
      "weighted avg       0.66      0.66      0.66      1250\n",
      "\n"
     ]
    }
   ],
   "source": [
    "# feel free to mess around with all the values here to try and get better scores, it's pretty barebones right now.\n",
    "MLPC = MLPClassifier(hidden_layer_sizes=(11,11), activation='relu',\n",
    "                     batch_size=500, max_iter=200, random_state=42)\n",
    "MLPC.fit(X_train, y_train)\n",
    "y_pred = MLPC.predict(X_test)\n",
    "print(confusion_matrix(y_test, y_pred))\n",
    "print(classification_report(y_test, y_pred))"
   ]
  },
  {
   "cell_type": "markdown",
   "metadata": {
    "papermill": {
     "duration": 0.021744,
     "end_time": "2020-08-31T00:14:19.023877",
     "exception": false,
     "start_time": "2020-08-31T00:14:19.002133",
     "status": "completed"
    },
    "tags": []
   },
   "source": [
    "### Conclusion"
   ]
  },
  {
   "cell_type": "markdown",
   "metadata": {
    "papermill": {
     "duration": 0.022309,
     "end_time": "2020-08-31T00:14:19.067957",
     "exception": false,
     "start_time": "2020-08-31T00:14:19.045648",
     "status": "completed"
    },
    "tags": []
   },
   "source": [
    "So as I'm sure you can see, the classifiers are all only slightly better than random at predicting the outcome. I was unable to bring the classifiers' accuracies above 70% (the best I did was 69% at some pouint). So that's pretty poor honestly. It could be that I'm using the machine learning badly (of course a possibility). Even more likely than that is I simply am not analysing the most important features that truly impact the result. This is somewhat expected, the most important determinant in whether a team wins or loses a match is ultimately down primarily to the players' skills, which are not at all implemented here. \n",
    "\n",
    "To make a more accurate model I suggest finding information about the teams (or even individual players) to add as features here. It would also be useful to include how many of each kind of weapon each team has etc. I don't know if this data even exists, but it's a thought.\n",
    "\n",
    "Cheers if you actually went through this whole thing.\n"
   ]
  },
  {
   "cell_type": "markdown",
   "metadata": {
    "papermill": {
     "duration": 0.021689,
     "end_time": "2020-08-31T00:14:19.112961",
     "exception": false,
     "start_time": "2020-08-31T00:14:19.091272",
     "status": "completed"
    },
    "tags": []
   },
   "source": [
    "### Quick Side Notes"
   ]
  },
  {
   "cell_type": "markdown",
   "metadata": {
    "papermill": {
     "duration": 0.022272,
     "end_time": "2020-08-31T00:14:19.157336",
     "exception": false,
     "start_time": "2020-08-31T00:14:19.135064",
     "status": "completed"
    },
    "tags": []
   },
   "source": [
    "So basically I planned to add the data for the number of people alive in the previous round and the data for whether the bomb was planted. These are in a different file do not contain the same number of games and so would require a good bit more processing to work out and implement. After doing all the above classifiers and finding the scores to be only around 68%, I figured it would be a lot of work and is unlikely to change the results. If you guys are interested I have included some code below to create columns for those two features, but the files need to be matched up."
   ]
  },
  {
   "cell_type": "code",
   "execution_count": 28,
   "metadata": {
    "execution": {
     "iopub.execute_input": "2020-08-31T00:14:19.212353Z",
     "iopub.status.busy": "2020-08-31T00:14:19.211500Z",
     "iopub.status.idle": "2020-08-31T00:14:20.715846Z",
     "shell.execute_reply": "2020-08-31T00:14:20.714848Z"
    },
    "papermill": {
     "duration": 1.535831,
     "end_time": "2020-08-31T00:14:20.716022",
     "exception": false,
     "start_time": "2020-08-31T00:14:19.180191",
     "status": "completed"
    },
    "tags": []
   },
   "outputs": [
    {
     "data": {
      "text/html": [
       "<div>\n",
       "<style scoped>\n",
       "    .dataframe tbody tr th:only-of-type {\n",
       "        vertical-align: middle;\n",
       "    }\n",
       "\n",
       "    .dataframe tbody tr th {\n",
       "        vertical-align: top;\n",
       "    }\n",
       "\n",
       "    .dataframe thead th {\n",
       "        text-align: right;\n",
       "    }\n",
       "</style>\n",
       "<table border=\"1\" class=\"dataframe\">\n",
       "  <thead>\n",
       "    <tr style=\"text-align: right;\">\n",
       "      <th></th>\n",
       "      <th>file</th>\n",
       "      <th>round</th>\n",
       "      <th>binBombPlant</th>\n",
       "    </tr>\n",
       "  </thead>\n",
       "  <tbody>\n",
       "    <tr>\n",
       "      <th>0</th>\n",
       "      <td>esea_match_13770997.dem</td>\n",
       "      <td>1</td>\n",
       "      <td>1</td>\n",
       "    </tr>\n",
       "    <tr>\n",
       "      <th>1</th>\n",
       "      <td>esea_match_13770997.dem</td>\n",
       "      <td>2</td>\n",
       "      <td>0</td>\n",
       "    </tr>\n",
       "    <tr>\n",
       "      <th>2</th>\n",
       "      <td>esea_match_13770997.dem</td>\n",
       "      <td>3</td>\n",
       "      <td>0</td>\n",
       "    </tr>\n",
       "    <tr>\n",
       "      <th>3</th>\n",
       "      <td>esea_match_13770997.dem</td>\n",
       "      <td>4</td>\n",
       "      <td>1</td>\n",
       "    </tr>\n",
       "    <tr>\n",
       "      <th>4</th>\n",
       "      <td>esea_match_13770997.dem</td>\n",
       "      <td>5</td>\n",
       "      <td>0</td>\n",
       "    </tr>\n",
       "  </tbody>\n",
       "</table>\n",
       "</div>"
      ],
      "text/plain": [
       "                      file  round  binBombPlant\n",
       "0  esea_match_13770997.dem      1             1\n",
       "1  esea_match_13770997.dem      2             0\n",
       "2  esea_match_13770997.dem      3             0\n",
       "3  esea_match_13770997.dem      4             1\n",
       "4  esea_match_13770997.dem      5             0"
      ]
     },
     "execution_count": 28,
     "metadata": {},
     "output_type": "execute_result"
    }
   ],
   "source": [
    "# creates a table indicating whether the bomb was planted for each round. \n",
    "# requires somebody to die after the bomb was planted to work and so is not entirely accurate !\n",
    "killsData['binBombPlant'] = killsData['is_bomb_planted'].map({False:0, True:1})\n",
    "bombPlantData = killsData[['file','round','binBombPlant']].groupby(['file','round']).max().reset_index()\n",
    "bombPlantData.head()"
   ]
  },
  {
   "cell_type": "code",
   "execution_count": 29,
   "metadata": {
    "execution": {
     "iopub.execute_input": "2020-08-31T00:14:20.796162Z",
     "iopub.status.busy": "2020-08-31T00:14:20.794869Z",
     "iopub.status.idle": "2020-08-31T00:14:21.432917Z",
     "shell.execute_reply": "2020-08-31T00:14:21.432052Z"
    },
    "papermill": {
     "duration": 0.691366,
     "end_time": "2020-08-31T00:14:21.433072",
     "exception": false,
     "start_time": "2020-08-31T00:14:20.741706",
     "status": "completed"
    },
    "tags": []
   },
   "outputs": [
    {
     "data": {
      "text/html": [
       "<div>\n",
       "<style scoped>\n",
       "    .dataframe tbody tr th:only-of-type {\n",
       "        vertical-align: middle;\n",
       "    }\n",
       "\n",
       "    .dataframe tbody tr th {\n",
       "        vertical-align: top;\n",
       "    }\n",
       "\n",
       "    .dataframe thead th {\n",
       "        text-align: right;\n",
       "    }\n",
       "</style>\n",
       "<table border=\"1\" class=\"dataframe\">\n",
       "  <thead>\n",
       "    <tr style=\"text-align: right;\">\n",
       "      <th></th>\n",
       "      <th></th>\n",
       "      <th>ct_alive</th>\n",
       "      <th>t_alive</th>\n",
       "    </tr>\n",
       "    <tr>\n",
       "      <th>file</th>\n",
       "      <th>round</th>\n",
       "      <th></th>\n",
       "      <th></th>\n",
       "    </tr>\n",
       "  </thead>\n",
       "  <tbody>\n",
       "    <tr>\n",
       "      <th rowspan=\"5\" valign=\"top\">esea_match_13770997.dem</th>\n",
       "      <th>1</th>\n",
       "      <td>0</td>\n",
       "      <td>1</td>\n",
       "    </tr>\n",
       "    <tr>\n",
       "      <th>2</th>\n",
       "      <td>1</td>\n",
       "      <td>2</td>\n",
       "    </tr>\n",
       "    <tr>\n",
       "      <th>3</th>\n",
       "      <td>0</td>\n",
       "      <td>4</td>\n",
       "    </tr>\n",
       "    <tr>\n",
       "      <th>4</th>\n",
       "      <td>0</td>\n",
       "      <td>1</td>\n",
       "    </tr>\n",
       "    <tr>\n",
       "      <th>5</th>\n",
       "      <td>3</td>\n",
       "      <td>0</td>\n",
       "    </tr>\n",
       "    <tr>\n",
       "      <th>...</th>\n",
       "      <th>...</th>\n",
       "      <td>...</td>\n",
       "      <td>...</td>\n",
       "    </tr>\n",
       "    <tr>\n",
       "      <th rowspan=\"5\" valign=\"top\">esea_match_13829173.dem</th>\n",
       "      <th>18</th>\n",
       "      <td>0</td>\n",
       "      <td>3</td>\n",
       "    </tr>\n",
       "    <tr>\n",
       "      <th>19</th>\n",
       "      <td>0</td>\n",
       "      <td>3</td>\n",
       "    </tr>\n",
       "    <tr>\n",
       "      <th>20</th>\n",
       "      <td>0</td>\n",
       "      <td>3</td>\n",
       "    </tr>\n",
       "    <tr>\n",
       "      <th>21</th>\n",
       "      <td>0</td>\n",
       "      <td>2</td>\n",
       "    </tr>\n",
       "    <tr>\n",
       "      <th>22</th>\n",
       "      <td>0</td>\n",
       "      <td>2</td>\n",
       "    </tr>\n",
       "  </tbody>\n",
       "</table>\n",
       "<p>383890 rows × 2 columns</p>\n",
       "</div>"
      ],
      "text/plain": [
       "                               ct_alive  t_alive\n",
       "file                    round                   \n",
       "esea_match_13770997.dem 1             0        1\n",
       "                        2             1        2\n",
       "                        3             0        4\n",
       "                        4             0        1\n",
       "                        5             3        0\n",
       "...                                 ...      ...\n",
       "esea_match_13829173.dem 18            0        3\n",
       "                        19            0        3\n",
       "                        20            0        3\n",
       "                        21            0        2\n",
       "                        22            0        2\n",
       "\n",
       "[383890 rows x 2 columns]"
      ]
     },
     "execution_count": 29,
     "metadata": {},
     "output_type": "execute_result"
    }
   ],
   "source": [
    "# gives how many of each team remained alive after each round\n",
    "killsData.groupby(['file','round'])[['ct_alive', 't_alive']].min()"
   ]
  }
 ],
 "metadata": {
  "kernelspec": {
   "display_name": "Python 3",
   "language": "python",
   "name": "python3"
  },
  "language_info": {
   "codemirror_mode": {
    "name": "ipython",
    "version": 3
   },
   "file_extension": ".py",
   "mimetype": "text/x-python",
   "name": "python",
   "nbconvert_exporter": "python",
   "pygments_lexer": "ipython3",
   "version": "3.11.0"
  },
  "papermill": {
   "duration": 71.822021,
   "end_time": "2020-08-31T00:14:21.570521",
   "environment_variables": {},
   "exception": null,
   "input_path": "__notebook__.ipynb",
   "output_path": "__notebook__.ipynb",
   "parameters": {},
   "start_time": "2020-08-31T00:13:09.748500",
   "version": "2.1.0"
  }
 },
 "nbformat": 4,
 "nbformat_minor": 4
}
